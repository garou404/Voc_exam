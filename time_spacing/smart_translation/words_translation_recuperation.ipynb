{
 "cells": [
  {
   "cell_type": "code",
   "execution_count": 2,
   "outputs": [],
   "source": [
    "import pandas as pd\n",
    "import numpy as np\n",
    "from bs4 import BeautifulSoup\n",
    "import requests\n",
    "import re"
   ],
   "metadata": {
    "collapsed": false,
    "ExecuteTime": {
     "end_time": "2024-01-27T15:54:34.675909200Z",
     "start_time": "2024-01-27T15:54:29.687412200Z"
    }
   },
   "id": "c2ba8b1b314d41d2"
  },
  {
   "cell_type": "code",
   "execution_count": 28,
   "id": "initial_id",
   "metadata": {
    "collapsed": true,
    "ExecuteTime": {
     "end_time": "2024-01-27T15:54:34.682902800Z",
     "start_time": "2024-01-27T15:54:34.682902800Z"
    }
   },
   "outputs": [
    {
     "data": {
      "text/plain": "                            words nature  translation\n0             to (kid) themselves      v          NaN\n1      the weeks crept on (crept)      v          NaN\n2  turned it (thrice) in his hand    NaN          NaN\n3                     maddeningly    NaN          NaN\n4    the (strain) of not laughing      n          NaN",
      "text/html": "<div>\n<style scoped>\n    .dataframe tbody tr th:only-of-type {\n        vertical-align: middle;\n    }\n\n    .dataframe tbody tr th {\n        vertical-align: top;\n    }\n\n    .dataframe thead th {\n        text-align: right;\n    }\n</style>\n<table border=\"1\" class=\"dataframe\">\n  <thead>\n    <tr style=\"text-align: right;\">\n      <th></th>\n      <th>words</th>\n      <th>nature</th>\n      <th>translation</th>\n    </tr>\n  </thead>\n  <tbody>\n    <tr>\n      <th>0</th>\n      <td>to (kid) themselves</td>\n      <td>v</td>\n      <td>NaN</td>\n    </tr>\n    <tr>\n      <th>1</th>\n      <td>the weeks crept on (crept)</td>\n      <td>v</td>\n      <td>NaN</td>\n    </tr>\n    <tr>\n      <th>2</th>\n      <td>turned it (thrice) in his hand</td>\n      <td>NaN</td>\n      <td>NaN</td>\n    </tr>\n    <tr>\n      <th>3</th>\n      <td>maddeningly</td>\n      <td>NaN</td>\n      <td>NaN</td>\n    </tr>\n    <tr>\n      <th>4</th>\n      <td>the (strain) of not laughing</td>\n      <td>n</td>\n      <td>NaN</td>\n    </tr>\n  </tbody>\n</table>\n</div>"
     },
     "execution_count": 28,
     "metadata": {},
     "output_type": "execute_result"
    }
   ],
   "source": [
    "df_words = pd.read_csv('words_to_translate.csv', sep=';')\n",
    "df_words_test = df_words[:5]\n",
    "df_words_test"
   ]
  },
  {
   "cell_type": "code",
   "execution_count": 52,
   "outputs": [],
   "source": [
    "\n",
    "personal_pronouns = ['i', 'you', 'he', 'she', 'it', 'we', 'they']\n",
    "indefinite_pronouns = ['sth', 'sb']\n",
    "to = 'to'\n",
    "\n",
    "def operation(row):\n",
    "    nature = ''\n",
    "    if pd.isnull(row['nature']) is False:\n",
    "        nature = row['nature'].lower()\n",
    "    words = row['words'].lower()\n",
    "    word = ''\n",
    "    if ('(' in words) & (')' in words):\n",
    "        pattern = r\"\\((.*?)\\)\"\n",
    "        word = re.findall(pattern, words)[0]\n",
    "    else:\n",
    "        words = words.split(' ')\n",
    "        if len(words) == 1:\n",
    "            word = words[0]\n",
    "        elif len(words) == 2:\n",
    "            for i in range(2):\n",
    "                for personal_pronoun in personal_pronouns:\n",
    "                    if personal_pronoun == words[i]:\n",
    "                        word = words[abs(i-1)]\n",
    "                for indefinite_pronoun in indefinite_pronouns:\n",
    "                    if indefinite_pronoun == words[i]:\n",
    "                        indef_pronoun = '['+words[i]+']'\n",
    "                        word = words[abs(i-1)]\n",
    "                if to == words[i]:\n",
    "                    word = words[abs(i-1)]\n",
    "                if nature != '':\n",
    "                    nature = 'v'\n",
    "        elif len(words) > 2:\n",
    "            print('------------------------------------------------------')\n",
    "            print('------------------cant be dealt with-------------------')\n",
    "            print(words)\n",
    "            print('------------------------------------------------------')\n",
    "\n",
    "    translations = get_translation(word)\n",
    "    filtered_translations = []\n",
    "    print('SELECTION')\n",
    "    print(translations)\n",
    "    if nature != '':\n",
    "        if nature == 'v':\n",
    "            for i in range(len(translations)):\n",
    "                if nature == translations[i][1][0]:\n",
    "                    filtered_translations.append(translations[i])\n",
    "        else:\n",
    "            for i in range(len(translations)):\n",
    "                if nature == translations[i][1]:\n",
    "                    filtered_translations.append(translations[i])\n",
    "    print('SELECTED')\n",
    "    for translation in filtered_translations:\n",
    "        print(translation)\n",
    "        print()\n",
    "    print()\n",
    "    return 'translated'"
   ],
   "metadata": {
    "collapsed": false
   }
  },
  {
   "cell_type": "code",
   "execution_count": 53,
   "outputs": [
    {
     "name": "stdout",
     "output_type": "stream",
     "text": [
      "SELECTION\n",
      "[['kid', 'n', 'informal(child)', '(familier)gamin, gamine ', 'enfant ', '(familier, France, Belg, Suisse)gosse ', 'Stacy likes to visit with friends while the kids are at school.', \"Stacy aime rendre visite à des amis lorsque les gamins sont à l'école.\"], ['kid', 'n', '(young goat)', 'chevreau ', 'The goat gave birth to a kid last month.', 'La chèvre a donné naissance à un chevreau le mois dernier.'], ['kid', 'adj', 'frère, sœur(younger)', '(frère, sœur)petit, petite ', 'Ben took his kid sister to school.', \"Ben a emmené sa petite sœur à l'école.\"], ['kid', 'vi', 'informal(joke)', 'plaisanter, rigoler⇒ ', '(familier)blaguer ', \"I didn't mean it; I was just kidding!\"], ['kid [sb]', 'vtr', '(joke)', 'taquiner ', '(familier)faire marcher ', '(familier)charrier ', 'se moquer de ', 'Karen made a face and said, \"You\\'ve got to be kidding me!\"', 'Karen fit une grimace et dit \"Tu me fais marcher, là !\"', 'Karen fit une grimace et dit \"Tu me charries, là !\"', 'Karen fit une grimace et dit \"Tu te moques de moi, là !\"']]\n",
      "SELECTED\n",
      "['kid', 'vi', 'informal(joke)', 'plaisanter, rigoler⇒ ', '(familier)blaguer ', \"I didn't mean it; I was just kidding!\"]\n",
      "\n",
      "['kid [sb]', 'vtr', '(joke)', 'taquiner ', '(familier)faire marcher ', '(familier)charrier ', 'se moquer de ', 'Karen made a face and said, \"You\\'ve got to be kidding me!\"', 'Karen fit une grimace et dit \"Tu me fais marcher, là !\"', 'Karen fit une grimace et dit \"Tu me charries, là !\"', 'Karen fit une grimace et dit \"Tu te moques de moi, là !\"']\n",
      "\n",
      "\n",
      "SELECTION\n",
      "[['creep', 'vi', '(crawl)', 'ramper ', 'to creep up : grimper (lentement) ', 'Lola screamed when she felt the spider creeping along her arm.', \"Lola cria en sentant l'araignée grimper le long de son bras.\"], ['creep', 'vi', 'plante(plant: grow along surface)', '(plante)grimper ', 'Ivy has crept up the walls, almost covering the windows.', 'Le lierre a grimpé sur les murs et a quasiment recouvert les fenêtres.'], ['creep', 'vi', 'figurative(move slowly)', 'se glisser, se faufiler⇒ ', 'avancer discrètement, avancer sans bruit ', '(chose ou temps)avancer lentement ', 'The day crept by, and finally it was time to go home.', \"ⓘCette phrase n'est pas une traduction de la phrase originale. Un voleur s'est glissé derrière mon présentoir et m'a volé tout mon gouda.\", \"L'heure avança lentement et il fut bientôt l'heure de rentrer.\"], ['creep', 'n', 'figurative(slow movement)', 'déplacement lent ', '(Technologie, métaux)fluage ', 'Kate watched the creep of the moonlight across the roof.  At rush hour, traffic moves at a creep.', 'Kate admirait le déplacement lent du clair de lune se refléter sur le toit.'], ['creep', 'vi', '(be obsequious)', 'être servile ', '(familier)faire de la lèche (à [qqn]) ', '(familier)lécher les bottes de [qqn] '], ['creep', 'n', 'slang(unnerving, repellent person)', '(personne qui inspire le dégoût)sale type ', '(familier : personne pitoyable)pauvre type, pauvre mec ', 'That creep keeps staring at me.', \"Ce sale type n'arrête pas de me regarder.\"], ['creep', 'n', 'slang, UK(obsequious person)', '(familier)fayot ', \"Only a creep would laugh at the boss's dumb jokes.\", 'Seul un fayot pourrait rire aux blagues idiotes du patron.'], ['creep', 'n', 'technical(solids: deformation over time)', '(métaux : déformation)fluage ', \"Stress and high temperatures caused creep in the turbine's blades.\", 'La contrainte et les températures élevées ont provoqué le fluage des lames de la turbine.']]\n",
      "SELECTED\n",
      "['creep', 'vi', '(crawl)', 'ramper ', 'to creep up : grimper (lentement) ', 'Lola screamed when she felt the spider creeping along her arm.', \"Lola cria en sentant l'araignée grimper le long de son bras.\"]\n",
      "\n",
      "['creep', 'vi', 'plante(plant: grow along surface)', '(plante)grimper ', 'Ivy has crept up the walls, almost covering the windows.', 'Le lierre a grimpé sur les murs et a quasiment recouvert les fenêtres.']\n",
      "\n",
      "['creep', 'vi', 'figurative(move slowly)', 'se glisser, se faufiler⇒ ', 'avancer discrètement, avancer sans bruit ', '(chose ou temps)avancer lentement ', 'The day crept by, and finally it was time to go home.', \"ⓘCette phrase n'est pas une traduction de la phrase originale. Un voleur s'est glissé derrière mon présentoir et m'a volé tout mon gouda.\", \"L'heure avança lentement et il fut bientôt l'heure de rentrer.\"]\n",
      "\n",
      "['creep', 'vi', '(be obsequious)', 'être servile ', '(familier)faire de la lèche (à [qqn]) ', '(familier)lécher les bottes de [qqn] ']\n",
      "\n",
      "\n",
      "SELECTION\n",
      "[['thrice', 'adv', 'dated(three times)', 'trois fois ', 'Edith was married thrice and widowed each time.', 'Elle a été mariée trois fois et a fini veuve à chaque fois.']]\n",
      "SELECTED\n",
      "\n",
      "SELECTION\n",
      "[['maddeningly', 'adv', '(very annoyingly)', 'désespérément, horriblement ', 'I tried to coax the secret from Maya, but she was maddeningly tight-lipped.']]\n",
      "SELECTED\n",
      "\n",
      "SELECTION\n",
      "[['strain', 'n', '(physical effort)', 'effort ', 'The strain of lifting too many boxes was too much for him.', \"L'effort qu'il devait fournir pour porter tous ces cartons était trop grand.\"], ['strain', 'n', 'figurative(stress, pressure)', 'pression ', 'The strain of working too many hours really affected him.', \"La pression de trop d'heures de travail l'affectait beaucoup.\"], ['strain', 'n', '(muscular injury)', 'élongation ', 'claquage ', 'The player was out with a muscle strain.', \"Le joueur a dû quitter le terrain après s'être fait une élongation.\"], ['strain', 'n', 'force physique(fatiguing pressure)', '(force physique)pression, tension ', 'The foundation of the building crumbled under the strain.', \"Les fondations de l'immeuble lâchèrent sous la pression.\"], ['strain', 'n', 'figurative(tension)', '(entre personnes)tension ', 'You could note a strain between the two of them.', \"On sentait qu'il y avait de la tension entre eux.\"], ['strain', 'n', \"d'un virus(variant: of virus, etc.)\", \"(d'un virus)souche \", 'Many people did not have immunity to this new strain of flu.', \"Un grand nombre de personnes n'est pas immunisé contre cette nouvelle souche de la grippe.\"], ['strain', 'vi', 'physique(make strenuous physical effort)', '(physique)faire un effort ', \"The men strained with all their might, but the piano wouldn't budge.\"], ['strain against [sth]', 'vi + prep', '(pull with force)', 'tirer de toutes ses forces ', 'The animal strained against the rope.', 'La bête tirait de toutes ses forces sur la corde.'], ['strain [sth]', 'vtr', '(filter)', 'tamiser, filtrer⇒ ', '(familier, courant)passer ', 'You need to strain the rice before you cook it.', 'Il faut tamiser le riz avant de le cuire.']]\n",
      "SELECTED\n",
      "['strain', 'n', '(physical effort)', 'effort ', 'The strain of lifting too many boxes was too much for him.', \"L'effort qu'il devait fournir pour porter tous ces cartons était trop grand.\"]\n",
      "\n",
      "['strain', 'n', 'figurative(stress, pressure)', 'pression ', 'The strain of working too many hours really affected him.', \"La pression de trop d'heures de travail l'affectait beaucoup.\"]\n",
      "\n",
      "['strain', 'n', '(muscular injury)', 'élongation ', 'claquage ', 'The player was out with a muscle strain.', \"Le joueur a dû quitter le terrain après s'être fait une élongation.\"]\n",
      "\n",
      "['strain', 'n', 'force physique(fatiguing pressure)', '(force physique)pression, tension ', 'The foundation of the building crumbled under the strain.', \"Les fondations de l'immeuble lâchèrent sous la pression.\"]\n",
      "\n",
      "['strain', 'n', 'figurative(tension)', '(entre personnes)tension ', 'You could note a strain between the two of them.', \"On sentait qu'il y avait de la tension entre eux.\"]\n",
      "\n",
      "['strain', 'n', \"d'un virus(variant: of virus, etc.)\", \"(d'un virus)souche \", 'Many people did not have immunity to this new strain of flu.', \"Un grand nombre de personnes n'est pas immunisé contre cette nouvelle souche de la grippe.\"]\n",
      "\n",
      "\n"
     ]
    },
    {
     "name": "stderr",
     "output_type": "stream",
     "text": [
      "C:\\Users\\charl\\AppData\\Local\\Temp\\ipykernel_18932\\2704481587.py:1: SettingWithCopyWarning: \n",
      "A value is trying to be set on a copy of a slice from a DataFrame.\n",
      "Try using .loc[row_indexer,col_indexer] = value instead\n",
      "\n",
      "See the caveats in the documentation: https://pandas.pydata.org/pandas-docs/stable/user_guide/indexing.html#returning-a-view-versus-a-copy\n",
      "  df_words_test['translation'] = df_words_test.apply(operation, axis=1)\n"
     ]
    }
   ],
   "source": [
    "df_words_test['translation'] = df_words_test.apply(operation, axis=1)"
   ],
   "metadata": {
    "collapsed": false
   }
  },
  {
   "cell_type": "code",
   "execution_count": 26,
   "outputs": [],
   "source": [
    "def get_translation(word):\n",
    "    r = requests.get('https://www.wordreference.com/enfr/'+word)\n",
    "    soup = BeautifulSoup(r.text, 'html.parser')\n",
    "    test_array = (soup.find_all('table', class_='WRD')[0].find_all('tr', class_=['even', 'odd']))\n",
    "\n",
    "    translation_blocks = []\n",
    "    block_temp = []\n",
    "    for i in range(len(test_array)):\n",
    "        if i != 0:\n",
    "            if test_array[i].attrs.get('class')[0] != test_array[i - 1].attrs.get('class')[0]:\n",
    "                translation_blocks.append(block_temp)\n",
    "                block_temp = []\n",
    "        block_temp.append(test_array[i].find_all('td'))\n",
    "    translation_blocks.append(block_temp)\n",
    "\n",
    "    array_translations = []\n",
    "    array_temp = []\n",
    "\n",
    "    for block in translation_blocks:\n",
    "        if block[0][0].find('em'): # check for nature\n",
    "            nature = block[0][0].find('em')\n",
    "            nature.extract()\n",
    "        if block[0][0].find('a'): # remove a tag from english\n",
    "            block[0][0].find('a').extract()\n",
    "        word = block[0][0].get_text()\n",
    "        figurative = ''\n",
    "        if block[0][1].find('i'):\n",
    "            figurative = block[0][1].find('i').get_text()\n",
    "        definition = figurative+''.join(block[0][1].find_all(string=True, recursive=False)).strip()\n",
    "        array_temp.append(word.strip())\n",
    "        array_temp.append(nature.get_text())\n",
    "\n",
    "        traduction_context = block[0][1].find('span', class_='dsense')\n",
    "\n",
    "        if definition != '':\n",
    "            array_temp.append(definition.replace('\\xa0', '').strip())\n",
    "        for y in range(len(block)):\n",
    "            if block[y][1].find('span', class_='dsense'):\n",
    "                traduction_context = block[y][1].find('span', class_='dsense').get_text()\n",
    "                if block[y][2].find('em'):\n",
    "                    block[y][2].find('em').extract()\n",
    "                if block[y][2].find('a'):\n",
    "                    block[y][2].find('a').extract()\n",
    "                traduction = block[y][2].get_text()\n",
    "                array_temp.append(traduction_context+traduction)\n",
    "            elif block[y][1].has_attr('class') and 'FrEx' in block[y][1]['class']: # example\n",
    "                array_temp.append(block[y][1].get_text())\n",
    "            elif block[y][1].has_attr('class') and 'ToEx' in block[y][1]['class']: # example\n",
    "                array_temp.append(block[y][1].get_text())\n",
    "            else:  #\n",
    "                if block[y][2].find('em'):\n",
    "                    block[y][2].find('em').extract()\n",
    "                if block[y][2].find('a'):\n",
    "                    block[y][2].find('a').extract()\n",
    "                traduction = block[y][2].get_text()\n",
    "                array_temp.append(traduction)\n",
    "        array_translations.append(array_temp)\n",
    "        array_temp = []\n",
    "\n",
    "    return array_translations"
   ],
   "metadata": {
    "collapsed": false
   }
  }
 ],
 "metadata": {
  "kernelspec": {
   "display_name": "Python 3",
   "language": "python",
   "name": "python3"
  },
  "language_info": {
   "codemirror_mode": {
    "name": "ipython",
    "version": 2
   },
   "file_extension": ".py",
   "mimetype": "text/x-python",
   "name": "python",
   "nbconvert_exporter": "python",
   "pygments_lexer": "ipython2",
   "version": "2.7.6"
  }
 },
 "nbformat": 4,
 "nbformat_minor": 5
}
