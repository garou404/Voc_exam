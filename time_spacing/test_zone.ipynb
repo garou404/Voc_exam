{
 "cells": [
  {
   "cell_type": "code",
   "execution_count": 2,
   "id": "initial_id",
   "metadata": {
    "collapsed": true,
    "ExecuteTime": {
     "end_time": "2023-12-18T21:42:30.428695500Z",
     "start_time": "2023-12-18T21:42:28.236941Z"
    }
   },
   "outputs": [],
   "source": [
    "import pandas as pd\n",
    "import random"
   ]
  },
  {
   "cell_type": "code",
   "execution_count": 3,
   "outputs": [],
   "source": [
    "from voc_exam import *\n",
    "WORDS_FILE = 'words/words_V1.0.0.xlsx'\n",
    "serie_size = 10"
   ],
   "metadata": {
    "collapsed": false
   }
  },
  {
   "cell_type": "code",
   "execution_count": 31,
   "outputs": [
    {
     "data": {
      "text/plain": "                                             question  asked_count     ratio  \\\n38                                             wobble            3  0.000000   \n37                                    Looking puzzled            4  0.250000   \n31                                    Something dodgy            3  0.333333   \n32                                               swig            3  0.333333   \n33                                His stomach churned            3  0.333333   \n34                           Waltzing to the dreadful            3  0.333333   \n35                          Whit his insides churning            3  0.333333   \n36                                          faint adj            3  0.333333   \n30                                              nasty            4  0.500000   \n18                                       They tramped            3  0.666667   \n19  Mrs clamped a handkerchief to her mouth and to...            3  0.666667   \n20      The wooden doors to the cubicles were flaking            3  0.666667   \n21                                Sense of foreboding            3  0.666667   \n22                                             shabby            3  0.666667   \n23  Circular table were crammed inside it (cram st...            3  0.666667   \n24            Everything was lit with a dim (dim adj)            3  0.666667   \n25                                 Weaving in and out            3  0.666667   \n26                                          abate sth            3  0.666667   \n27                                            baleful            3  0.666667   \n28           shaft, shaft of light, shaft of sunlight            3  0.666667   \n29                                          cluttered            3  0.666667   \n15                            he patted the dashboard            4  0.750000   \n16                                 The room was dingy            4  0.750000   \n17                   The feeling that had plagued him            4  0.750000   \n0                         The lid of the packing case            4  1.000000   \n1          Had wrought quite a change in his physique            4  1.000000   \n2                                               steer            3  1.000000   \n3   His head drooping with the weight of a nose li...            3  1.000000   \n4                     He was loathed by every student            3  1.000000   \n5            Pulled out the sheaf of parchment inside            3  1.000000   \n6   The firelight glowed over the countless squash...            3  1.000000   \n7                                   They are bound to            3  1.000000   \n8    Hermione ladled large dollops of the potion into            3  1.000000   \n9                                                 woe            3  1.000000   \n10                             A swooning fit (swoon)            3  1.000000   \n11                                              ponds            3  1.000000   \n12                               He had wheeled about            3  1.000000   \n13             It was quite galling to be told not to            3  1.000000   \n14                                            cottage            3  1.000000   \n\n   score  \n38   0/3  \n37   1/4  \n31   1/3  \n32   1/3  \n33   1/3  \n34   1/3  \n35   1/3  \n36   1/3  \n30   2/4  \n18   2/3  \n19   2/3  \n20   2/3  \n21   2/3  \n22   2/3  \n23   2/3  \n24   2/3  \n25   2/3  \n26   2/3  \n27   2/3  \n28   2/3  \n29   2/3  \n15   3/4  \n16   3/4  \n17   3/4  \n0    4/4  \n1    4/4  \n2    3/3  \n3    3/3  \n4    3/3  \n5    3/3  \n6    3/3  \n7    3/3  \n8    3/3  \n9    3/3  \n10   3/3  \n11   3/3  \n12   3/3  \n13   3/3  \n14   3/3  ",
      "text/html": "<div>\n<style scoped>\n    .dataframe tbody tr th:only-of-type {\n        vertical-align: middle;\n    }\n\n    .dataframe tbody tr th {\n        vertical-align: top;\n    }\n\n    .dataframe thead th {\n        text-align: right;\n    }\n</style>\n<table border=\"1\" class=\"dataframe\">\n  <thead>\n    <tr style=\"text-align: right;\">\n      <th></th>\n      <th>question</th>\n      <th>asked_count</th>\n      <th>ratio</th>\n      <th>score</th>\n    </tr>\n  </thead>\n  <tbody>\n    <tr>\n      <th>38</th>\n      <td>wobble</td>\n      <td>3</td>\n      <td>0.000000</td>\n      <td>0/3</td>\n    </tr>\n    <tr>\n      <th>37</th>\n      <td>Looking puzzled</td>\n      <td>4</td>\n      <td>0.250000</td>\n      <td>1/4</td>\n    </tr>\n    <tr>\n      <th>31</th>\n      <td>Something dodgy</td>\n      <td>3</td>\n      <td>0.333333</td>\n      <td>1/3</td>\n    </tr>\n    <tr>\n      <th>32</th>\n      <td>swig</td>\n      <td>3</td>\n      <td>0.333333</td>\n      <td>1/3</td>\n    </tr>\n    <tr>\n      <th>33</th>\n      <td>His stomach churned</td>\n      <td>3</td>\n      <td>0.333333</td>\n      <td>1/3</td>\n    </tr>\n    <tr>\n      <th>34</th>\n      <td>Waltzing to the dreadful</td>\n      <td>3</td>\n      <td>0.333333</td>\n      <td>1/3</td>\n    </tr>\n    <tr>\n      <th>35</th>\n      <td>Whit his insides churning</td>\n      <td>3</td>\n      <td>0.333333</td>\n      <td>1/3</td>\n    </tr>\n    <tr>\n      <th>36</th>\n      <td>faint adj</td>\n      <td>3</td>\n      <td>0.333333</td>\n      <td>1/3</td>\n    </tr>\n    <tr>\n      <th>30</th>\n      <td>nasty</td>\n      <td>4</td>\n      <td>0.500000</td>\n      <td>2/4</td>\n    </tr>\n    <tr>\n      <th>18</th>\n      <td>They tramped</td>\n      <td>3</td>\n      <td>0.666667</td>\n      <td>2/3</td>\n    </tr>\n    <tr>\n      <th>19</th>\n      <td>Mrs clamped a handkerchief to her mouth and to...</td>\n      <td>3</td>\n      <td>0.666667</td>\n      <td>2/3</td>\n    </tr>\n    <tr>\n      <th>20</th>\n      <td>The wooden doors to the cubicles were flaking</td>\n      <td>3</td>\n      <td>0.666667</td>\n      <td>2/3</td>\n    </tr>\n    <tr>\n      <th>21</th>\n      <td>Sense of foreboding</td>\n      <td>3</td>\n      <td>0.666667</td>\n      <td>2/3</td>\n    </tr>\n    <tr>\n      <th>22</th>\n      <td>shabby</td>\n      <td>3</td>\n      <td>0.666667</td>\n      <td>2/3</td>\n    </tr>\n    <tr>\n      <th>23</th>\n      <td>Circular table were crammed inside it (cram st...</td>\n      <td>3</td>\n      <td>0.666667</td>\n      <td>2/3</td>\n    </tr>\n    <tr>\n      <th>24</th>\n      <td>Everything was lit with a dim (dim adj)</td>\n      <td>3</td>\n      <td>0.666667</td>\n      <td>2/3</td>\n    </tr>\n    <tr>\n      <th>25</th>\n      <td>Weaving in and out</td>\n      <td>3</td>\n      <td>0.666667</td>\n      <td>2/3</td>\n    </tr>\n    <tr>\n      <th>26</th>\n      <td>abate sth</td>\n      <td>3</td>\n      <td>0.666667</td>\n      <td>2/3</td>\n    </tr>\n    <tr>\n      <th>27</th>\n      <td>baleful</td>\n      <td>3</td>\n      <td>0.666667</td>\n      <td>2/3</td>\n    </tr>\n    <tr>\n      <th>28</th>\n      <td>shaft, shaft of light, shaft of sunlight</td>\n      <td>3</td>\n      <td>0.666667</td>\n      <td>2/3</td>\n    </tr>\n    <tr>\n      <th>29</th>\n      <td>cluttered</td>\n      <td>3</td>\n      <td>0.666667</td>\n      <td>2/3</td>\n    </tr>\n    <tr>\n      <th>15</th>\n      <td>he patted the dashboard</td>\n      <td>4</td>\n      <td>0.750000</td>\n      <td>3/4</td>\n    </tr>\n    <tr>\n      <th>16</th>\n      <td>The room was dingy</td>\n      <td>4</td>\n      <td>0.750000</td>\n      <td>3/4</td>\n    </tr>\n    <tr>\n      <th>17</th>\n      <td>The feeling that had plagued him</td>\n      <td>4</td>\n      <td>0.750000</td>\n      <td>3/4</td>\n    </tr>\n    <tr>\n      <th>0</th>\n      <td>The lid of the packing case</td>\n      <td>4</td>\n      <td>1.000000</td>\n      <td>4/4</td>\n    </tr>\n    <tr>\n      <th>1</th>\n      <td>Had wrought quite a change in his physique</td>\n      <td>4</td>\n      <td>1.000000</td>\n      <td>4/4</td>\n    </tr>\n    <tr>\n      <th>2</th>\n      <td>steer</td>\n      <td>3</td>\n      <td>1.000000</td>\n      <td>3/3</td>\n    </tr>\n    <tr>\n      <th>3</th>\n      <td>His head drooping with the weight of a nose li...</td>\n      <td>3</td>\n      <td>1.000000</td>\n      <td>3/3</td>\n    </tr>\n    <tr>\n      <th>4</th>\n      <td>He was loathed by every student</td>\n      <td>3</td>\n      <td>1.000000</td>\n      <td>3/3</td>\n    </tr>\n    <tr>\n      <th>5</th>\n      <td>Pulled out the sheaf of parchment inside</td>\n      <td>3</td>\n      <td>1.000000</td>\n      <td>3/3</td>\n    </tr>\n    <tr>\n      <th>6</th>\n      <td>The firelight glowed over the countless squash...</td>\n      <td>3</td>\n      <td>1.000000</td>\n      <td>3/3</td>\n    </tr>\n    <tr>\n      <th>7</th>\n      <td>They are bound to</td>\n      <td>3</td>\n      <td>1.000000</td>\n      <td>3/3</td>\n    </tr>\n    <tr>\n      <th>8</th>\n      <td>Hermione ladled large dollops of the potion into</td>\n      <td>3</td>\n      <td>1.000000</td>\n      <td>3/3</td>\n    </tr>\n    <tr>\n      <th>9</th>\n      <td>woe</td>\n      <td>3</td>\n      <td>1.000000</td>\n      <td>3/3</td>\n    </tr>\n    <tr>\n      <th>10</th>\n      <td>A swooning fit (swoon)</td>\n      <td>3</td>\n      <td>1.000000</td>\n      <td>3/3</td>\n    </tr>\n    <tr>\n      <th>11</th>\n      <td>ponds</td>\n      <td>3</td>\n      <td>1.000000</td>\n      <td>3/3</td>\n    </tr>\n    <tr>\n      <th>12</th>\n      <td>He had wheeled about</td>\n      <td>3</td>\n      <td>1.000000</td>\n      <td>3/3</td>\n    </tr>\n    <tr>\n      <th>13</th>\n      <td>It was quite galling to be told not to</td>\n      <td>3</td>\n      <td>1.000000</td>\n      <td>3/3</td>\n    </tr>\n    <tr>\n      <th>14</th>\n      <td>cottage</td>\n      <td>3</td>\n      <td>1.000000</td>\n      <td>3/3</td>\n    </tr>\n  </tbody>\n</table>\n</div>"
     },
     "execution_count": 31,
     "metadata": {},
     "output_type": "execute_result"
    }
   ],
   "source": [
    "df_words = get_dataframe(WORDS_FILE)\n",
    "df_words_asked = df_words.loc[df_words['asked_count'] >= 3]\n",
    "df_words_asked['ratio'] = df_words['right_answer_count']/df_words['asked_count']\n",
    "df_words_asked['score'] = df_words['right_answer_count'].astype(str)+'/'+df_words['asked_count'].astype(str)\n",
    "df_words_asked = df_words_asked.sort_values(by=['ratio', 'asked_count'], ascending=False).reset_index(drop=True)\n",
    "df_words_asked[['question', 'asked_count', 'ratio', 'score']]\n",
    "df_words_asked[['question', 'asked_count', 'ratio', 'score']].sort_values(by=['ratio', 'asked_count'], ascending=[True, False])"
   ],
   "metadata": {
    "collapsed": false
   }
  },
  {
   "cell_type": "code",
   "execution_count": 29,
   "outputs": [],
   "source": [
    "import os\n",
    "def update_data_from_production(path_prod, path_dev):\n",
    "    csv_files = [file for file in os.listdir(path_prod) if file.__contains__('.csv')]\n",
    "    excel_files = [file for file in os.listdir(path_prod) if file.__contains__('.xl')]\n",
    "    for file in csv_files:\n",
    "        df = pd.read_csv(path_prod+file, sep=';')\n",
    "        df.to_csv(path_dev+file, index=False, sep=';')\n",
    "    for file in excel_files:\n",
    "        df = pd.read_excel(path_prod+file)\n",
    "        df.to_excel(path_dev+file, index=False)\n",
    "update_data_from_production('D:/DOCUMENT/travail/perso/data_volume/', './words/')"
   ],
   "metadata": {
    "collapsed": false
   }
  },
  {
   "cell_type": "code",
   "execution_count": 11,
   "outputs": [
    {
     "data": {
      "text/plain": "False"
     },
     "execution_count": 11,
     "metadata": {},
     "output_type": "execute_result"
    }
   ],
   "source": [
    "condition = (df_quiz['answered'] == False) & (df_quiz['asked'] == True)\n",
    "df_quiz.loc[condition, 'fr_to_eng'].values[0]"
   ],
   "metadata": {
    "collapsed": false
   }
  },
  {
   "cell_type": "code",
   "execution_count": 27,
   "outputs": [],
   "source": [
    "df_series = pd.read_csv(SERIES_HISTO_FILE, sep=';')\n",
    "today = datetime.datetime.now()\n",
    "series_size = 10\n",
    "score = 5"
   ],
   "metadata": {
    "collapsed": false
   }
  },
  {
   "cell_type": "code",
   "execution_count": 28,
   "outputs": [
    {
     "name": "stdout",
     "output_type": "stream",
     "text": [
      "IN\n"
     ]
    },
    {
     "data": {
      "text/plain": "    serie_size  serie_score        date\n0           20           11   2024-03-7\n1           30           15   2024-03-8\n2           20            2   2024-03-9\n3           10            8  2024-03-10\n4           10            5  2024-03-11\n5           30           24  2024-03-12\n6           35           22  2024-03-14\n7           40           21  2024-03-16\n8           30           22  2024-03-18\n9           30           24  2024-03-24\n10          20           10  2024-04-21",
      "text/html": "<div>\n<style scoped>\n    .dataframe tbody tr th:only-of-type {\n        vertical-align: middle;\n    }\n\n    .dataframe tbody tr th {\n        vertical-align: top;\n    }\n\n    .dataframe thead th {\n        text-align: right;\n    }\n</style>\n<table border=\"1\" class=\"dataframe\">\n  <thead>\n    <tr style=\"text-align: right;\">\n      <th></th>\n      <th>serie_size</th>\n      <th>serie_score</th>\n      <th>date</th>\n    </tr>\n  </thead>\n  <tbody>\n    <tr>\n      <th>0</th>\n      <td>20</td>\n      <td>11</td>\n      <td>2024-03-7</td>\n    </tr>\n    <tr>\n      <th>1</th>\n      <td>30</td>\n      <td>15</td>\n      <td>2024-03-8</td>\n    </tr>\n    <tr>\n      <th>2</th>\n      <td>20</td>\n      <td>2</td>\n      <td>2024-03-9</td>\n    </tr>\n    <tr>\n      <th>3</th>\n      <td>10</td>\n      <td>8</td>\n      <td>2024-03-10</td>\n    </tr>\n    <tr>\n      <th>4</th>\n      <td>10</td>\n      <td>5</td>\n      <td>2024-03-11</td>\n    </tr>\n    <tr>\n      <th>5</th>\n      <td>30</td>\n      <td>24</td>\n      <td>2024-03-12</td>\n    </tr>\n    <tr>\n      <th>6</th>\n      <td>35</td>\n      <td>22</td>\n      <td>2024-03-14</td>\n    </tr>\n    <tr>\n      <th>7</th>\n      <td>40</td>\n      <td>21</td>\n      <td>2024-03-16</td>\n    </tr>\n    <tr>\n      <th>8</th>\n      <td>30</td>\n      <td>22</td>\n      <td>2024-03-18</td>\n    </tr>\n    <tr>\n      <th>9</th>\n      <td>30</td>\n      <td>24</td>\n      <td>2024-03-24</td>\n    </tr>\n    <tr>\n      <th>10</th>\n      <td>20</td>\n      <td>10</td>\n      <td>2024-04-21</td>\n    </tr>\n  </tbody>\n</table>\n</div>"
     },
     "execution_count": 28,
     "metadata": {},
     "output_type": "execute_result"
    }
   ],
   "source": [
    "if pd.to_datetime(df_series.loc[df_series.shape[0] - 1, 'date']).date() == today.date():\n",
    "    print('IN')\n",
    "    df_series.loc[df_series.shape[0] - 1, 'serie_size'] = \\\n",
    "        df_series.loc[df_series.shape[0] - 1, 'serie_size'] + series_size\n",
    "    df_series.loc[df_series.shape[0] - 1, 'serie_score'] = \\\n",
    "        df_series.loc[df_series.shape[0] - 1, 'serie_score'] + score\n",
    "df_series"
   ],
   "metadata": {
    "collapsed": false
   }
  },
  {
   "cell_type": "code",
   "execution_count": 8,
   "outputs": [],
   "source": [
    "data = pd.read_csv('words/series_history.csv', index_col=0)\n",
    "data.reset_index(inplace=True)\n",
    "data.to_csv('../../data_save/series_history.csv',sep=';', index=False)"
   ],
   "metadata": {
    "collapsed": false
   }
  },
  {
   "cell_type": "code",
   "execution_count": 8,
   "outputs": [],
   "source": [
    "# Sample data for demonstration\n",
    "names = [\"Alice\", \"Bob\", \"Charlie\", \"David\", \"Eva\", \"Frank\", \"Grace\", \"Hank\", \"Ivy\", \"Jack\"]\n",
    "ages = [random.randint(20, 40) for _ in range(10)]\n",
    "heights = [random.uniform(150, 190) for _ in range(10)]\n",
    "weights = [random.uniform(50, 90) for _ in range(10)]\n",
    "\n",
    "# Creating a DataFrame\n",
    "data = {\n",
    "    \"Name\": names,\n",
    "    \"Age\": ages,\n",
    "    \"Height\": heights,\n",
    "    \"Weight\": weights\n",
    "}\n",
    "\n",
    "df = pd.DataFrame(data)\n",
    "df = df.sample(frac=1)"
   ],
   "metadata": {
    "collapsed": false,
    "ExecuteTime": {
     "end_time": "2023-12-18T21:44:02.338727900Z",
     "start_time": "2023-12-18T21:44:02.301118400Z"
    }
   },
   "id": "c3896161fabee5b8"
  },
  {
   "cell_type": "code",
   "execution_count": 23,
   "outputs": [
    {
     "data": {
      "text/plain": "      Name  Age      Height     Weight\n1      Bob   35  152.545173  63.159668\n8    Kevin   32  180.211435  51.566869\n2  Charlie   34  183.814434  71.336761\n7     Hank   35  172.886988  86.389132\n9     Jack   21  177.761262  81.345438\n3    David   32  188.530690  86.693651\n6    Grace   24  158.011012  55.653102\n5    Frank   38  189.128365  77.958222\n4      Eva   20  174.573261  70.878694\n0    Alice   37  170.327698  68.785009",
      "text/html": "<div>\n<style scoped>\n    .dataframe tbody tr th:only-of-type {\n        vertical-align: middle;\n    }\n\n    .dataframe tbody tr th {\n        vertical-align: top;\n    }\n\n    .dataframe thead th {\n        text-align: right;\n    }\n</style>\n<table border=\"1\" class=\"dataframe\">\n  <thead>\n    <tr style=\"text-align: right;\">\n      <th></th>\n      <th>Name</th>\n      <th>Age</th>\n      <th>Height</th>\n      <th>Weight</th>\n    </tr>\n  </thead>\n  <tbody>\n    <tr>\n      <th>1</th>\n      <td>Bob</td>\n      <td>35</td>\n      <td>152.545173</td>\n      <td>63.159668</td>\n    </tr>\n    <tr>\n      <th>8</th>\n      <td>Kevin</td>\n      <td>32</td>\n      <td>180.211435</td>\n      <td>51.566869</td>\n    </tr>\n    <tr>\n      <th>2</th>\n      <td>Charlie</td>\n      <td>34</td>\n      <td>183.814434</td>\n      <td>71.336761</td>\n    </tr>\n    <tr>\n      <th>7</th>\n      <td>Hank</td>\n      <td>35</td>\n      <td>172.886988</td>\n      <td>86.389132</td>\n    </tr>\n    <tr>\n      <th>9</th>\n      <td>Jack</td>\n      <td>21</td>\n      <td>177.761262</td>\n      <td>81.345438</td>\n    </tr>\n    <tr>\n      <th>3</th>\n      <td>David</td>\n      <td>32</td>\n      <td>188.530690</td>\n      <td>86.693651</td>\n    </tr>\n    <tr>\n      <th>6</th>\n      <td>Grace</td>\n      <td>24</td>\n      <td>158.011012</td>\n      <td>55.653102</td>\n    </tr>\n    <tr>\n      <th>5</th>\n      <td>Frank</td>\n      <td>38</td>\n      <td>189.128365</td>\n      <td>77.958222</td>\n    </tr>\n    <tr>\n      <th>4</th>\n      <td>Eva</td>\n      <td>20</td>\n      <td>174.573261</td>\n      <td>70.878694</td>\n    </tr>\n    <tr>\n      <th>0</th>\n      <td>Alice</td>\n      <td>37</td>\n      <td>170.327698</td>\n      <td>68.785009</td>\n    </tr>\n  </tbody>\n</table>\n</div>"
     },
     "execution_count": 23,
     "metadata": {},
     "output_type": "execute_result"
    }
   ],
   "source": [
    "df.iloc[1, df.columns.get_loc('Name')] = 'Kevin'\n",
    "df"
   ],
   "metadata": {
    "collapsed": false,
    "ExecuteTime": {
     "end_time": "2023-12-18T21:52:09.034942700Z",
     "start_time": "2023-12-18T21:52:09.005730700Z"
    }
   },
   "id": "4ffc5bd1853b3f7f"
  },
  {
   "cell_type": "code",
   "execution_count": null,
   "outputs": [],
   "source": [],
   "metadata": {
    "collapsed": false
   }
  },
  {
   "cell_type": "code",
   "execution_count": 7,
   "outputs": [
    {
     "data": {
      "text/plain": "   serie_size  serie_score        date\n0          20           11   2024-03-7\n1          30           15   2024-03-8\n2          20            2   2024-03-9\n3          10            8  2024-03-10\n4          10            5  2024-03-11\n5          30           24  2024-03-12\n6          35           22  2024-03-14\n7          40           21  2024-03-16\n8          30           22  2024-03-18\n9          30           24  2024-03-24",
      "text/html": "<div>\n<style scoped>\n    .dataframe tbody tr th:only-of-type {\n        vertical-align: middle;\n    }\n\n    .dataframe tbody tr th {\n        vertical-align: top;\n    }\n\n    .dataframe thead th {\n        text-align: right;\n    }\n</style>\n<table border=\"1\" class=\"dataframe\">\n  <thead>\n    <tr style=\"text-align: right;\">\n      <th></th>\n      <th>serie_size</th>\n      <th>serie_score</th>\n      <th>date</th>\n    </tr>\n  </thead>\n  <tbody>\n    <tr>\n      <th>0</th>\n      <td>20</td>\n      <td>11</td>\n      <td>2024-03-7</td>\n    </tr>\n    <tr>\n      <th>1</th>\n      <td>30</td>\n      <td>15</td>\n      <td>2024-03-8</td>\n    </tr>\n    <tr>\n      <th>2</th>\n      <td>20</td>\n      <td>2</td>\n      <td>2024-03-9</td>\n    </tr>\n    <tr>\n      <th>3</th>\n      <td>10</td>\n      <td>8</td>\n      <td>2024-03-10</td>\n    </tr>\n    <tr>\n      <th>4</th>\n      <td>10</td>\n      <td>5</td>\n      <td>2024-03-11</td>\n    </tr>\n    <tr>\n      <th>5</th>\n      <td>30</td>\n      <td>24</td>\n      <td>2024-03-12</td>\n    </tr>\n    <tr>\n      <th>6</th>\n      <td>35</td>\n      <td>22</td>\n      <td>2024-03-14</td>\n    </tr>\n    <tr>\n      <th>7</th>\n      <td>40</td>\n      <td>21</td>\n      <td>2024-03-16</td>\n    </tr>\n    <tr>\n      <th>8</th>\n      <td>30</td>\n      <td>22</td>\n      <td>2024-03-18</td>\n    </tr>\n    <tr>\n      <th>9</th>\n      <td>30</td>\n      <td>24</td>\n      <td>2024-03-24</td>\n    </tr>\n  </tbody>\n</table>\n</div>"
     },
     "execution_count": 7,
     "metadata": {},
     "output_type": "execute_result"
    }
   ],
   "source": [
    "import pandas as pd\n",
    "#df_series_score = pd.read_csv('D:/DOCUMENT/travail/perso/data_volume/series_history.csv', sep='\\;', encoding='utf-8')[-5:]\n",
    "test = pd.read_csv('D:/DOCUMENT/travail/perso/data_volume/series_history.csv', sep=';')\n",
    "test"
   ],
   "metadata": {
    "collapsed": false
   }
  },
  {
   "cell_type": "code",
   "execution_count": 5,
   "outputs": [
    {
     "data": {
      "text/plain": "                         question  \\\n0                     Eerie noise   \n1                     It’s a mast   \n2             A resurrected wreck   \n3           With a great sloshing   \n4    Looking very smug about this   \n..                            ...   \n377                          wade   \n378                  wade through   \n379                   treacherous   \n380                   wine-sodden   \n381                        sodden   \n\n                                                answer       date  \\\n0              (mysterious, creepy) étrange/inquiétant 2024-03-24   \n1    (on ship) mât/(flag)mât/(TV, radio)pylône/(Rad... 2024-03-24   \n2         (remains of ship)épave/naufrage/épave, ruine 2024-04-22   \n3                                             cinglant 2024-03-24   \n4                  smug(adj)suffisant,imbu de soi-même 2024-03-24   \n..                                                 ...        ...   \n377                          patauger, traverser à gué 2024-03-24   \n378  patauger dans\\n(figurative, work through sth t... 2024-03-24   \n379                                            traitre 2024-03-24   \n380                     -sodden (ivre de qqch) vin ici 2024-03-24   \n381                             trempé, (sol) détrempé 2024-03-24   \n\n     steps_index  fr_to_eng  right_answer_count  asked_count  \\\n0              2      False                   0            0   \n1              7      False                   0            0   \n2              8      False                   1            1   \n3              7      False                   0            0   \n4              5      False                   0            0   \n..           ...        ...                 ...          ...   \n377            3      False                   0            0   \n378            1      False                   0            0   \n379            0      False                   0            0   \n380            0      False                   0            0   \n381            4      False                   0            0   \n\n     first_last_asked  second_last_asked  third_last_asked  \n0                 NaN                NaN               NaN  \n1                 NaN                NaN               NaN  \n2                 1.0                NaN               NaN  \n3                 NaN                NaN               NaN  \n4                 NaN                NaN               NaN  \n..                ...                ...               ...  \n377               NaN                NaN               NaN  \n378               NaN                NaN               NaN  \n379               NaN                NaN               NaN  \n380               NaN                NaN               NaN  \n381               NaN                NaN               NaN  \n\n[382 rows x 10 columns]",
      "text/html": "<div>\n<style scoped>\n    .dataframe tbody tr th:only-of-type {\n        vertical-align: middle;\n    }\n\n    .dataframe tbody tr th {\n        vertical-align: top;\n    }\n\n    .dataframe thead th {\n        text-align: right;\n    }\n</style>\n<table border=\"1\" class=\"dataframe\">\n  <thead>\n    <tr style=\"text-align: right;\">\n      <th></th>\n      <th>question</th>\n      <th>answer</th>\n      <th>date</th>\n      <th>steps_index</th>\n      <th>fr_to_eng</th>\n      <th>right_answer_count</th>\n      <th>asked_count</th>\n      <th>first_last_asked</th>\n      <th>second_last_asked</th>\n      <th>third_last_asked</th>\n    </tr>\n  </thead>\n  <tbody>\n    <tr>\n      <th>0</th>\n      <td>Eerie noise</td>\n      <td>(mysterious, creepy) étrange/inquiétant</td>\n      <td>2024-03-24</td>\n      <td>2</td>\n      <td>False</td>\n      <td>0</td>\n      <td>0</td>\n      <td>NaN</td>\n      <td>NaN</td>\n      <td>NaN</td>\n    </tr>\n    <tr>\n      <th>1</th>\n      <td>It’s a mast</td>\n      <td>(on ship) mât/(flag)mât/(TV, radio)pylône/(Rad...</td>\n      <td>2024-03-24</td>\n      <td>7</td>\n      <td>False</td>\n      <td>0</td>\n      <td>0</td>\n      <td>NaN</td>\n      <td>NaN</td>\n      <td>NaN</td>\n    </tr>\n    <tr>\n      <th>2</th>\n      <td>A resurrected wreck</td>\n      <td>(remains of ship)épave/naufrage/épave, ruine</td>\n      <td>2024-04-22</td>\n      <td>8</td>\n      <td>False</td>\n      <td>1</td>\n      <td>1</td>\n      <td>1.0</td>\n      <td>NaN</td>\n      <td>NaN</td>\n    </tr>\n    <tr>\n      <th>3</th>\n      <td>With a great sloshing</td>\n      <td>cinglant</td>\n      <td>2024-03-24</td>\n      <td>7</td>\n      <td>False</td>\n      <td>0</td>\n      <td>0</td>\n      <td>NaN</td>\n      <td>NaN</td>\n      <td>NaN</td>\n    </tr>\n    <tr>\n      <th>4</th>\n      <td>Looking very smug about this</td>\n      <td>smug(adj)suffisant,imbu de soi-même</td>\n      <td>2024-03-24</td>\n      <td>5</td>\n      <td>False</td>\n      <td>0</td>\n      <td>0</td>\n      <td>NaN</td>\n      <td>NaN</td>\n      <td>NaN</td>\n    </tr>\n    <tr>\n      <th>...</th>\n      <td>...</td>\n      <td>...</td>\n      <td>...</td>\n      <td>...</td>\n      <td>...</td>\n      <td>...</td>\n      <td>...</td>\n      <td>...</td>\n      <td>...</td>\n      <td>...</td>\n    </tr>\n    <tr>\n      <th>377</th>\n      <td>wade</td>\n      <td>patauger, traverser à gué</td>\n      <td>2024-03-24</td>\n      <td>3</td>\n      <td>False</td>\n      <td>0</td>\n      <td>0</td>\n      <td>NaN</td>\n      <td>NaN</td>\n      <td>NaN</td>\n    </tr>\n    <tr>\n      <th>378</th>\n      <td>wade through</td>\n      <td>patauger dans\\n(figurative, work through sth t...</td>\n      <td>2024-03-24</td>\n      <td>1</td>\n      <td>False</td>\n      <td>0</td>\n      <td>0</td>\n      <td>NaN</td>\n      <td>NaN</td>\n      <td>NaN</td>\n    </tr>\n    <tr>\n      <th>379</th>\n      <td>treacherous</td>\n      <td>traitre</td>\n      <td>2024-03-24</td>\n      <td>0</td>\n      <td>False</td>\n      <td>0</td>\n      <td>0</td>\n      <td>NaN</td>\n      <td>NaN</td>\n      <td>NaN</td>\n    </tr>\n    <tr>\n      <th>380</th>\n      <td>wine-sodden</td>\n      <td>-sodden (ivre de qqch) vin ici</td>\n      <td>2024-03-24</td>\n      <td>0</td>\n      <td>False</td>\n      <td>0</td>\n      <td>0</td>\n      <td>NaN</td>\n      <td>NaN</td>\n      <td>NaN</td>\n    </tr>\n    <tr>\n      <th>381</th>\n      <td>sodden</td>\n      <td>trempé, (sol) détrempé</td>\n      <td>2024-03-24</td>\n      <td>4</td>\n      <td>False</td>\n      <td>0</td>\n      <td>0</td>\n      <td>NaN</td>\n      <td>NaN</td>\n      <td>NaN</td>\n    </tr>\n  </tbody>\n</table>\n<p>382 rows × 10 columns</p>\n</div>"
     },
     "execution_count": 5,
     "metadata": {},
     "output_type": "execute_result"
    }
   ],
   "source": [
    "test = pd.read_excel('D:/DOCUMENT/travail/perso/data_volume/words_V1.0.0.xlsx')\n",
    "test"
   ],
   "metadata": {
    "collapsed": false
   }
  }
 ],
 "metadata": {
  "kernelspec": {
   "display_name": "Python 3",
   "language": "python",
   "name": "python3"
  },
  "language_info": {
   "codemirror_mode": {
    "name": "ipython",
    "version": 2
   },
   "file_extension": ".py",
   "mimetype": "text/x-python",
   "name": "python",
   "nbconvert_exporter": "python",
   "pygments_lexer": "ipython2",
   "version": "2.7.6"
  }
 },
 "nbformat": 4,
 "nbformat_minor": 5
}
