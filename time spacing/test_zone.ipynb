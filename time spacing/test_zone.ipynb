{
 "cells": [
  {
   "cell_type": "code",
   "execution_count": 3,
   "id": "initial_id",
   "metadata": {
    "collapsed": true,
    "ExecuteTime": {
     "end_time": "2023-12-18T21:42:30.428695500Z",
     "start_time": "2023-12-18T21:42:28.236941Z"
    }
   },
   "outputs": [],
   "source": [
    "import pandas as pd\n",
    "import random"
   ]
  },
  {
   "cell_type": "code",
   "execution_count": 8,
   "outputs": [],
   "source": [
    "# Sample data for demonstration\n",
    "names = [\"Alice\", \"Bob\", \"Charlie\", \"David\", \"Eva\", \"Frank\", \"Grace\", \"Hank\", \"Ivy\", \"Jack\"]\n",
    "ages = [random.randint(20, 40) for _ in range(10)]\n",
    "heights = [random.uniform(150, 190) for _ in range(10)]\n",
    "weights = [random.uniform(50, 90) for _ in range(10)]\n",
    "\n",
    "# Creating a DataFrame\n",
    "data = {\n",
    "    \"Name\": names,\n",
    "    \"Age\": ages,\n",
    "    \"Height\": heights,\n",
    "    \"Weight\": weights\n",
    "}\n",
    "\n",
    "df = pd.DataFrame(data)\n",
    "df = df.sample(frac=1)"
   ],
   "metadata": {
    "collapsed": false,
    "ExecuteTime": {
     "end_time": "2023-12-18T21:44:02.338727900Z",
     "start_time": "2023-12-18T21:44:02.301118400Z"
    }
   },
   "id": "c3896161fabee5b8"
  },
  {
   "cell_type": "code",
   "execution_count": 23,
   "outputs": [
    {
     "data": {
      "text/plain": "      Name  Age      Height     Weight\n1      Bob   35  152.545173  63.159668\n8    Kevin   32  180.211435  51.566869\n2  Charlie   34  183.814434  71.336761\n7     Hank   35  172.886988  86.389132\n9     Jack   21  177.761262  81.345438\n3    David   32  188.530690  86.693651\n6    Grace   24  158.011012  55.653102\n5    Frank   38  189.128365  77.958222\n4      Eva   20  174.573261  70.878694\n0    Alice   37  170.327698  68.785009",
      "text/html": "<div>\n<style scoped>\n    .dataframe tbody tr th:only-of-type {\n        vertical-align: middle;\n    }\n\n    .dataframe tbody tr th {\n        vertical-align: top;\n    }\n\n    .dataframe thead th {\n        text-align: right;\n    }\n</style>\n<table border=\"1\" class=\"dataframe\">\n  <thead>\n    <tr style=\"text-align: right;\">\n      <th></th>\n      <th>Name</th>\n      <th>Age</th>\n      <th>Height</th>\n      <th>Weight</th>\n    </tr>\n  </thead>\n  <tbody>\n    <tr>\n      <th>1</th>\n      <td>Bob</td>\n      <td>35</td>\n      <td>152.545173</td>\n      <td>63.159668</td>\n    </tr>\n    <tr>\n      <th>8</th>\n      <td>Kevin</td>\n      <td>32</td>\n      <td>180.211435</td>\n      <td>51.566869</td>\n    </tr>\n    <tr>\n      <th>2</th>\n      <td>Charlie</td>\n      <td>34</td>\n      <td>183.814434</td>\n      <td>71.336761</td>\n    </tr>\n    <tr>\n      <th>7</th>\n      <td>Hank</td>\n      <td>35</td>\n      <td>172.886988</td>\n      <td>86.389132</td>\n    </tr>\n    <tr>\n      <th>9</th>\n      <td>Jack</td>\n      <td>21</td>\n      <td>177.761262</td>\n      <td>81.345438</td>\n    </tr>\n    <tr>\n      <th>3</th>\n      <td>David</td>\n      <td>32</td>\n      <td>188.530690</td>\n      <td>86.693651</td>\n    </tr>\n    <tr>\n      <th>6</th>\n      <td>Grace</td>\n      <td>24</td>\n      <td>158.011012</td>\n      <td>55.653102</td>\n    </tr>\n    <tr>\n      <th>5</th>\n      <td>Frank</td>\n      <td>38</td>\n      <td>189.128365</td>\n      <td>77.958222</td>\n    </tr>\n    <tr>\n      <th>4</th>\n      <td>Eva</td>\n      <td>20</td>\n      <td>174.573261</td>\n      <td>70.878694</td>\n    </tr>\n    <tr>\n      <th>0</th>\n      <td>Alice</td>\n      <td>37</td>\n      <td>170.327698</td>\n      <td>68.785009</td>\n    </tr>\n  </tbody>\n</table>\n</div>"
     },
     "execution_count": 23,
     "metadata": {},
     "output_type": "execute_result"
    }
   ],
   "source": [
    "df.iloc[1, df.columns.get_loc('Name')] = 'Kevin'\n",
    "df"
   ],
   "metadata": {
    "collapsed": false,
    "ExecuteTime": {
     "end_time": "2023-12-18T21:52:09.034942700Z",
     "start_time": "2023-12-18T21:52:09.005730700Z"
    }
   },
   "id": "4ffc5bd1853b3f7f"
  }
 ],
 "metadata": {
  "kernelspec": {
   "display_name": "Python 3",
   "language": "python",
   "name": "python3"
  },
  "language_info": {
   "codemirror_mode": {
    "name": "ipython",
    "version": 2
   },
   "file_extension": ".py",
   "mimetype": "text/x-python",
   "name": "python",
   "nbconvert_exporter": "python",
   "pygments_lexer": "ipython2",
   "version": "2.7.6"
  }
 },
 "nbformat": 4,
 "nbformat_minor": 5
}
