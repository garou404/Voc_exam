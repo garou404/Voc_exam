{
 "cells": [
  {
   "cell_type": "code",
   "execution_count": 2,
   "outputs": [],
   "source": [
    "import pandas as pd\n",
    "import numpy as np\n",
    "from bs4 import BeautifulSoup\n",
    "import requests\n",
    "import re"
   ],
   "metadata": {
    "collapsed": false,
    "ExecuteTime": {
     "end_time": "2024-01-27T15:54:34.675909200Z",
     "start_time": "2024-01-27T15:54:29.687412200Z"
    }
   },
   "id": "c2ba8b1b314d41d2"
  },
  {
   "cell_type": "code",
   "execution_count": 23,
   "id": "initial_id",
   "metadata": {
    "collapsed": true,
    "ExecuteTime": {
     "end_time": "2024-01-27T15:54:34.682902800Z",
     "start_time": "2024-01-27T15:54:34.682902800Z"
    }
   },
   "outputs": [
    {
     "data": {
      "text/plain": "                             words nature  translation\n0  turned it (thrice) in his handu    NaN          NaN\n1                      maddeningly    NaN          NaN\n2     the (strain) of not laughing      n          NaN\n3     finger raised (pedantically)    NaN          NaN\n4                         twilight      n          NaN",
      "text/html": "<div>\n<style scoped>\n    .dataframe tbody tr th:only-of-type {\n        vertical-align: middle;\n    }\n\n    .dataframe tbody tr th {\n        vertical-align: top;\n    }\n\n    .dataframe thead th {\n        text-align: right;\n    }\n</style>\n<table border=\"1\" class=\"dataframe\">\n  <thead>\n    <tr style=\"text-align: right;\">\n      <th></th>\n      <th>words</th>\n      <th>nature</th>\n      <th>translation</th>\n    </tr>\n  </thead>\n  <tbody>\n    <tr>\n      <th>0</th>\n      <td>turned it (thrice) in his handu</td>\n      <td>NaN</td>\n      <td>NaN</td>\n    </tr>\n    <tr>\n      <th>1</th>\n      <td>maddeningly</td>\n      <td>NaN</td>\n      <td>NaN</td>\n    </tr>\n    <tr>\n      <th>2</th>\n      <td>the (strain) of not laughing</td>\n      <td>n</td>\n      <td>NaN</td>\n    </tr>\n    <tr>\n      <th>3</th>\n      <td>finger raised (pedantically)</td>\n      <td>NaN</td>\n      <td>NaN</td>\n    </tr>\n    <tr>\n      <th>4</th>\n      <td>twilight</td>\n      <td>n</td>\n      <td>NaN</td>\n    </tr>\n  </tbody>\n</table>\n</div>"
     },
     "execution_count": 23,
     "metadata": {},
     "output_type": "execute_result"
    }
   ],
   "source": [
    "df_words = pd.read_csv('words_to_translate.csv', sep=';')\n",
    "df_words_test = df_words[:5]\n",
    "df_words_test"
   ]
  },
  {
   "cell_type": "code",
   "execution_count": 20,
   "outputs": [],
   "source": [
    "def operation(row):\n",
    "\n",
    "    word = row['words']\n",
    "    pattern = r\"\\((.*?)\\)\"  # This regex pattern matches anything inside parentheses\n",
    "    if '(' in word:\n",
    "        word = re.findall(pattern, word)[0]\n",
    "    print(word)\n",
    "    translations = get_translation(word, row['nature'])\n",
    "    for translation in translations:\n",
    "        print(translation)\n",
    "        print()\n",
    "    print()\n",
    "    print()\n",
    "    return 'translated'"
   ],
   "metadata": {
    "collapsed": false
   }
  },
  {
   "cell_type": "code",
   "execution_count": 21,
   "outputs": [
    {
     "name": "stdout",
     "output_type": "stream",
     "text": [
      "turned it (thrice) in his hand\n",
      "turned it (thrice) in his hand\n",
      "['thrice', 'adv', 'dated(three times)', 'trois fois ', 'Edith was married thrice and widowed each time.', 'Elle a été mariée trois fois et a fini veuve à chaque fois.']\n",
      "\n",
      "\n",
      "\n",
      "maddeningly\n",
      "maddeningly\n",
      "['maddeningly', 'adv', '(very annoyingly)', 'désespérément, horriblement ', 'I tried to coax the secret from Maya, but she was maddeningly tight-lipped.']\n",
      "\n",
      "\n",
      "\n",
      "the (strain) of not laughing\n",
      "the (strain) of not laughing\n",
      "['strain', 'n', '(physical effort)', 'effort ', 'The strain of lifting too many boxes was too much for him.', \"L'effort qu'il devait fournir pour porter tous ces cartons était trop grand.\"]\n",
      "\n",
      "['strain', 'n', 'figurative(stress, pressure)', 'pression ', 'The strain of working too many hours really affected him.', \"La pression de trop d'heures de travail l'affectait beaucoup.\"]\n",
      "\n",
      "['strain', 'n', '(muscular injury)', 'élongation ', 'claquage ', 'The player was out with a muscle strain.', \"Le joueur a dû quitter le terrain après s'être fait une élongation.\"]\n",
      "\n",
      "['strain', 'n', 'force physique(fatiguing pressure)', '(force physique)pression, tension ', 'The foundation of the building crumbled under the strain.', \"Les fondations de l'immeuble lâchèrent sous la pression.\"]\n",
      "\n",
      "['strain', 'n', 'figurative(tension)', '(entre personnes)tension ', 'You could note a strain between the two of them.', \"On sentait qu'il y avait de la tension entre eux.\"]\n",
      "\n",
      "['strain', 'n', \"d'un virus(variant: of virus, etc.)\", \"(d'un virus)souche \", 'Many people did not have immunity to this new strain of flu.', \"Un grand nombre de personnes n'est pas immunisé contre cette nouvelle souche de la grippe.\"]\n",
      "\n",
      "['strain', 'vi', 'physique(make strenuous physical effort)', '(physique)faire un effort ', \"The men strained with all their might, but the piano wouldn't budge.\"]\n",
      "\n",
      "['strain against [sth]', 'vi + prep', '(pull with force)', 'tirer de toutes ses forces ', 'The animal strained against the rope.', 'La bête tirait de toutes ses forces sur la corde.']\n",
      "\n",
      "['strain [sth]', 'vtr', '(filter)', 'tamiser, filtrer⇒ ', '(familier, courant)passer ', 'You need to strain the rice before you cook it.', 'Il faut tamiser le riz avant de le cuire.']\n",
      "\n",
      "\n",
      "\n",
      "finger raised (pedantically)\n",
      "finger raised (pedantically)\n",
      "['pedantically', 'adv', '(fussy, meticulous)', 'doctement ']\n",
      "\n",
      "\n",
      "\n",
      "twilight\n",
      "twilight\n",
      "['twilight', 'n', '(time of day)', 'crépuscule ', 'tombée de la nuit ', '(Can)brunante ', \"Ned's mother told him to be sure to be home by twilight.\", \"La mère de Ned lui a demandé d'être de retour à la maison avant le crépuscule.\"]\n",
      "\n",
      "['twilight', 'n', '(light after sunset)', 'semi-obscurité, pénombre ', 'Everything looked a little different in the twilight.', 'Tout semblait différent dans la semi-obscurité.']\n",
      "\n",
      "['twilight', 'n', 'figurative(declining years)', '(figuré)crépuscule ', 'Pippa decided she was going to have some fun in the twilight of her life. The current government is in the twilight of its term in office.', \"Pippa a décidé qu'elle allait un peu s'amuser au crépuscule de sa vie.  Le gouvernement actuel est au crépuscule de son mandat.\"]\n",
      "\n",
      "\n",
      "\n"
     ]
    },
    {
     "name": "stderr",
     "output_type": "stream",
     "text": [
      "C:\\Users\\charl\\AppData\\Local\\Temp\\ipykernel_18932\\2704481587.py:1: SettingWithCopyWarning: \n",
      "A value is trying to be set on a copy of a slice from a DataFrame.\n",
      "Try using .loc[row_indexer,col_indexer] = value instead\n",
      "\n",
      "See the caveats in the documentation: https://pandas.pydata.org/pandas-docs/stable/user_guide/indexing.html#returning-a-view-versus-a-copy\n",
      "  df_words_test['translation'] = df_words_test.apply(operation, axis=1)\n"
     ]
    }
   ],
   "source": [
    "df_words_test['translation'] = df_words_test.apply(operation, axis=1)"
   ],
   "metadata": {
    "collapsed": false
   }
  },
  {
   "cell_type": "code",
   "execution_count": 14,
   "outputs": [],
   "source": [
    "def get_translation(word, word_nature):\n",
    "\n",
    "\n",
    "\n",
    "    r = requests.get('https://www.wordreference.com/enfr/'+word)\n",
    "    soup = BeautifulSoup(r.text, 'html.parser')\n",
    "    test_array = (soup.find_all('table', class_='WRD')[0].find_all('tr', class_=['even', 'odd']))\n",
    "\n",
    "    translation_blocks = []\n",
    "    block_temp = []\n",
    "    for i in range(len(test_array)):\n",
    "        if i != 0:\n",
    "            if test_array[i].attrs.get('class')[0] != test_array[i - 1].attrs.get('class')[0]:\n",
    "                translation_blocks.append(block_temp)\n",
    "                block_temp = []\n",
    "        block_temp.append(test_array[i].find_all('td'))\n",
    "    translation_blocks.append(block_temp)\n",
    "\n",
    "    array_translations = []\n",
    "    array_temp = []\n",
    "\n",
    "    for block in translation_blocks:\n",
    "        if block[0][0].find('em'): # check for nature\n",
    "            nature = block[0][0].find('em')\n",
    "            nature.extract()\n",
    "        if block[0][0].find('a'): # remove a tag from english\n",
    "            block[0][0].find('a').extract()\n",
    "        word = block[0][0].get_text()\n",
    "        figurative = ''\n",
    "        if block[0][1].find('i'):\n",
    "            figurative = block[0][1].find('i').get_text()\n",
    "        definition = figurative+''.join(block[0][1].find_all(string=True, recursive=False)).strip()\n",
    "        array_temp.append(word.strip())\n",
    "        array_temp.append(nature.get_text())\n",
    "\n",
    "        traduction_context = block[0][1].find('span', class_='dsense')\n",
    "\n",
    "        if definition != '':\n",
    "            array_temp.append(definition.replace('\\xa0', '').strip())\n",
    "        for y in range(len(block)):\n",
    "            if block[y][1].find('span', class_='dsense'):\n",
    "                traduction_context = block[y][1].find('span', class_='dsense').get_text()\n",
    "                if block[y][2].find('em'):\n",
    "                    block[y][2].find('em').extract()\n",
    "                if block[y][2].find('a'):\n",
    "                    block[y][2].find('a').extract()\n",
    "                traduction = block[y][2].get_text()\n",
    "                array_temp.append(traduction_context+traduction)\n",
    "            elif block[y][1].has_attr('class') and 'FrEx' in block[y][1]['class']: # example\n",
    "                array_temp.append(block[y][1].get_text())\n",
    "            elif block[y][1].has_attr('class') and 'ToEx' in block[y][1]['class']: # example\n",
    "                array_temp.append(block[y][1].get_text())\n",
    "            else:  #\n",
    "                if block[y][2].find('em'):\n",
    "                    block[y][2].find('em').extract()\n",
    "                if block[y][2].find('a'):\n",
    "                    block[y][2].find('a').extract()\n",
    "                traduction = block[y][2].get_text()\n",
    "                array_temp.append(traduction)\n",
    "        array_translations.append(array_temp)\n",
    "        array_temp = []\n",
    "\n",
    "    return array_translations"
   ],
   "metadata": {
    "collapsed": false
   }
  }
 ],
 "metadata": {
  "kernelspec": {
   "display_name": "Python 3",
   "language": "python",
   "name": "python3"
  },
  "language_info": {
   "codemirror_mode": {
    "name": "ipython",
    "version": 2
   },
   "file_extension": ".py",
   "mimetype": "text/x-python",
   "name": "python",
   "nbconvert_exporter": "python",
   "pygments_lexer": "ipython2",
   "version": "2.7.6"
  }
 },
 "nbformat": 4,
 "nbformat_minor": 5
}
