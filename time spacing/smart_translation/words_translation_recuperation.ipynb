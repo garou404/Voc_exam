{
 "cells": [
  {
   "cell_type": "code",
   "execution_count": 1,
   "outputs": [],
   "source": [
    "import pandas as pd\n",
    "import numpy as np\n",
    "from bs4 import BeautifulSoup\n",
    "import requests\n",
    "import re"
   ],
   "metadata": {
    "collapsed": false,
    "ExecuteTime": {
     "end_time": "2024-01-27T15:54:34.675909200Z",
     "start_time": "2024-01-27T15:54:29.687412200Z"
    }
   },
   "id": "c2ba8b1b314d41d2"
  },
  {
   "cell_type": "code",
   "execution_count": 45,
   "id": "initial_id",
   "metadata": {
    "collapsed": true,
    "ExecuteTime": {
     "end_time": "2024-01-27T15:54:34.682902800Z",
     "start_time": "2024-01-27T15:54:34.682902800Z"
    }
   },
   "outputs": [
    {
     "data": {
      "text/plain": "                                       words nature  translation\n0                        to (kid) themselves      v          NaN\n1                 the weeks crept on (crept)      v          NaN\n2             turned it (thrice) in his hand    NaN          NaN\n3                                maddeningly    NaN          NaN\n4               the (strain) of not laughing      n          NaN\n..                                       ...    ...          ...\n101           to be straining to (straining)    NaN          NaN\n102  it pelted straight at his face (pelted)      v          NaN\n103                   he reeled off (reeled)      v          NaN\n104                                    cling    NaN          NaN\n105                                 fetch sb    NaN          NaN\n\n[106 rows x 3 columns]",
      "text/html": "<div>\n<style scoped>\n    .dataframe tbody tr th:only-of-type {\n        vertical-align: middle;\n    }\n\n    .dataframe tbody tr th {\n        vertical-align: top;\n    }\n\n    .dataframe thead th {\n        text-align: right;\n    }\n</style>\n<table border=\"1\" class=\"dataframe\">\n  <thead>\n    <tr style=\"text-align: right;\">\n      <th></th>\n      <th>words</th>\n      <th>nature</th>\n      <th>translation</th>\n    </tr>\n  </thead>\n  <tbody>\n    <tr>\n      <th>0</th>\n      <td>to (kid) themselves</td>\n      <td>v</td>\n      <td>NaN</td>\n    </tr>\n    <tr>\n      <th>1</th>\n      <td>the weeks crept on (crept)</td>\n      <td>v</td>\n      <td>NaN</td>\n    </tr>\n    <tr>\n      <th>2</th>\n      <td>turned it (thrice) in his hand</td>\n      <td>NaN</td>\n      <td>NaN</td>\n    </tr>\n    <tr>\n      <th>3</th>\n      <td>maddeningly</td>\n      <td>NaN</td>\n      <td>NaN</td>\n    </tr>\n    <tr>\n      <th>4</th>\n      <td>the (strain) of not laughing</td>\n      <td>n</td>\n      <td>NaN</td>\n    </tr>\n    <tr>\n      <th>...</th>\n      <td>...</td>\n      <td>...</td>\n      <td>...</td>\n    </tr>\n    <tr>\n      <th>101</th>\n      <td>to be straining to (straining)</td>\n      <td>NaN</td>\n      <td>NaN</td>\n    </tr>\n    <tr>\n      <th>102</th>\n      <td>it pelted straight at his face (pelted)</td>\n      <td>v</td>\n      <td>NaN</td>\n    </tr>\n    <tr>\n      <th>103</th>\n      <td>he reeled off (reeled)</td>\n      <td>v</td>\n      <td>NaN</td>\n    </tr>\n    <tr>\n      <th>104</th>\n      <td>cling</td>\n      <td>NaN</td>\n      <td>NaN</td>\n    </tr>\n    <tr>\n      <th>105</th>\n      <td>fetch sb</td>\n      <td>NaN</td>\n      <td>NaN</td>\n    </tr>\n  </tbody>\n</table>\n<p>106 rows × 3 columns</p>\n</div>"
     },
     "execution_count": 45,
     "metadata": {},
     "output_type": "execute_result"
    }
   ],
   "source": [
    "df_words = pd.read_csv('words_to_translate.csv', sep=';')\n",
    "df_words_test = df_words\n",
    "df_words_test"
   ]
  },
  {
   "cell_type": "code",
   "execution_count": 64,
   "outputs": [],
   "source": [
    "\n",
    "personal_pronouns = ['i', 'you', 'he', 'she', 'it', 'we', 'they']\n",
    "indefinite_pronouns = ['sth', 'sb']\n",
    "to = 'to'\n",
    "grammatical_article = 'the'\n",
    "def operation(row):\n",
    "    nature = ''\n",
    "    if pd.isnull(row['nature']) is False:\n",
    "        nature = row['nature'].lower()\n",
    "    words = row['words'].lower()\n",
    "    word = None\n",
    "    indef_pronoun = None\n",
    "    if ('(' in words) & (')' in words):\n",
    "        pattern = r\"\\((.*?)\\)\"\n",
    "        word = re.findall(pattern, words)[0]\n",
    "    else:\n",
    "        words = words.split(' ')\n",
    "        if len(words) == 1:\n",
    "            word = words[0]\n",
    "        elif len(words) == 2:\n",
    "            for i in range(2):\n",
    "                for personal_pronoun in personal_pronouns:\n",
    "                    if personal_pronoun == words[i]:\n",
    "                        word = words[abs(i-1)]\n",
    "                for indefinite_pronoun in indefinite_pronouns:\n",
    "                    if indefinite_pronoun == words[i]:\n",
    "                        indef_pronoun = '['+words[i]+']'\n",
    "                        word = words[abs(i-1)]\n",
    "                if to == words[i]:\n",
    "                    word = words[abs(i-1)]\n",
    "                if nature != '':\n",
    "                    nature = 'v'\n",
    "                if grammatical_article == words[i]:\n",
    "                    word = words[abs(i-1)]\n",
    "                    if nature != '':\n",
    "                        nature = 'n'\n",
    "            if word is None:\n",
    "                return \"can't process\"\n",
    "        elif len(words) > 2:\n",
    "            return 'too much word'\n",
    "    translations = get_translation(word)\n",
    "    if translations == 0:\n",
    "        return None\n",
    "    filtered_translations = []\n",
    "    #print(translations)\n",
    "    if nature != '':\n",
    "        if nature == 'v':\n",
    "            for i in range(len(translations)):\n",
    "                if nature == translations[i]['nature'][0]:\n",
    "                    filtered_translations.append(translations[i])\n",
    "            if indef_pronoun is not None:\n",
    "                filtered_translations = filter_indefinite_pronouns(filtered_translations, indef_pronoun)\n",
    "        else:\n",
    "            for i in range(len(translations)):\n",
    "                if nature == translations[i]['nature']:\n",
    "                    filtered_translations.append(translations[i])\n",
    "    else:\n",
    "        if indef_pronoun is not None:\n",
    "            translations = filter_indefinite_pronouns(translations, indef_pronoun)\n",
    "        filtered_translations = translations\n",
    "    #for translation in filtered_translations:\n",
    "    #    print(translation)\n",
    "    #    print()\n",
    "    #print()\n",
    "    return filtered_translations\n",
    "\n",
    "def filter_indefinite_pronouns(traductions, indef_pronoun):\n",
    "    return [trad for trad in traductions if indef_pronoun in trad['word']]"
   ],
   "metadata": {
    "collapsed": false
   }
  },
  {
   "cell_type": "code",
   "execution_count": 68,
   "outputs": [
    {
     "name": "stdout",
     "output_type": "stream",
     "text": [
      "\n",
      "\n"
     ]
    },
    {
     "data": {
      "text/plain": "                                       words nature  \\\n0                        to (kid) themselves      v   \n1                 the weeks crept on (crept)      v   \n2             turned it (thrice) in his hand    NaN   \n3                                maddeningly    NaN   \n4               the (strain) of not laughing      n   \n..                                       ...    ...   \n101           to be straining to (straining)    NaN   \n102  it pelted straight at his face (pelted)      v   \n103                   he reeled off (reeled)      v   \n104                                    cling    NaN   \n105                                 fetch sb    NaN   \n\n                                           translation  \n0    [{'word': 'kid', 'nature': 'vi', 'definition':...  \n1    [{'word': 'creep', 'nature': 'vi', 'definition...  \n2    [{'word': 'thrice', 'nature': 'adv', 'definiti...  \n3    [{'word': 'maddeningly', 'nature': 'adv', 'def...  \n4    [{'word': 'strain', 'nature': 'n', 'definition...  \n..                                                 ...  \n101  [{'word': 'strain', 'nature': 'n', 'definition...  \n102  [{'word': 'pelt [sb/sth] with [sth]', 'nature'...  \n103  [{'word': 'reel', 'nature': 'vi', 'definition'...  \n104  [{'word': 'cling to [sth/sb]', 'nature': 'vi +...  \n105  [{'word': 'fetch [sb]', 'nature': 'vtr', 'defi...  \n\n[106 rows x 3 columns]",
      "text/html": "<div>\n<style scoped>\n    .dataframe tbody tr th:only-of-type {\n        vertical-align: middle;\n    }\n\n    .dataframe tbody tr th {\n        vertical-align: top;\n    }\n\n    .dataframe thead th {\n        text-align: right;\n    }\n</style>\n<table border=\"1\" class=\"dataframe\">\n  <thead>\n    <tr style=\"text-align: right;\">\n      <th></th>\n      <th>words</th>\n      <th>nature</th>\n      <th>translation</th>\n    </tr>\n  </thead>\n  <tbody>\n    <tr>\n      <th>0</th>\n      <td>to (kid) themselves</td>\n      <td>v</td>\n      <td>[{'word': 'kid', 'nature': 'vi', 'definition':...</td>\n    </tr>\n    <tr>\n      <th>1</th>\n      <td>the weeks crept on (crept)</td>\n      <td>v</td>\n      <td>[{'word': 'creep', 'nature': 'vi', 'definition...</td>\n    </tr>\n    <tr>\n      <th>2</th>\n      <td>turned it (thrice) in his hand</td>\n      <td>NaN</td>\n      <td>[{'word': 'thrice', 'nature': 'adv', 'definiti...</td>\n    </tr>\n    <tr>\n      <th>3</th>\n      <td>maddeningly</td>\n      <td>NaN</td>\n      <td>[{'word': 'maddeningly', 'nature': 'adv', 'def...</td>\n    </tr>\n    <tr>\n      <th>4</th>\n      <td>the (strain) of not laughing</td>\n      <td>n</td>\n      <td>[{'word': 'strain', 'nature': 'n', 'definition...</td>\n    </tr>\n    <tr>\n      <th>...</th>\n      <td>...</td>\n      <td>...</td>\n      <td>...</td>\n    </tr>\n    <tr>\n      <th>101</th>\n      <td>to be straining to (straining)</td>\n      <td>NaN</td>\n      <td>[{'word': 'strain', 'nature': 'n', 'definition...</td>\n    </tr>\n    <tr>\n      <th>102</th>\n      <td>it pelted straight at his face (pelted)</td>\n      <td>v</td>\n      <td>[{'word': 'pelt [sb/sth] with [sth]', 'nature'...</td>\n    </tr>\n    <tr>\n      <th>103</th>\n      <td>he reeled off (reeled)</td>\n      <td>v</td>\n      <td>[{'word': 'reel', 'nature': 'vi', 'definition'...</td>\n    </tr>\n    <tr>\n      <th>104</th>\n      <td>cling</td>\n      <td>NaN</td>\n      <td>[{'word': 'cling to [sth/sb]', 'nature': 'vi +...</td>\n    </tr>\n    <tr>\n      <th>105</th>\n      <td>fetch sb</td>\n      <td>NaN</td>\n      <td>[{'word': 'fetch [sb]', 'nature': 'vtr', 'defi...</td>\n    </tr>\n  </tbody>\n</table>\n<p>106 rows × 3 columns</p>\n</div>"
     },
     "execution_count": 68,
     "metadata": {},
     "output_type": "execute_result"
    }
   ],
   "source": [
    "df_words_test['translation'] = df_words_test.apply(operation, axis=1)\n",
    "df_words_test"
   ],
   "metadata": {
    "collapsed": false
   }
  },
  {
   "cell_type": "code",
   "execution_count": 67,
   "outputs": [],
   "source": [
    "def get_translation(word):\n",
    "    r = requests.get('https://www.wordreference.com/enfr/'+word)\n",
    "    soup = BeautifulSoup(r.text, 'html.parser')\n",
    "    if soup.find('p', attrs={'id':'noEntryFound'}):\n",
    "        return 0\n",
    "    translations_tr_list = (soup.find_all('table', class_='WRD')[0].find_all('tr', class_=['even', 'odd']))\n",
    "\n",
    "    translation_blocks = []\n",
    "    block_temp = []\n",
    "    for i in range(len(translations_tr_list)):\n",
    "        if i != 0:\n",
    "            if translations_tr_list[i].attrs.get('class')[0] != translations_tr_list[i - 1].attrs.get('class')[0]:\n",
    "                translation_blocks.append(block_temp)\n",
    "                block_temp = []\n",
    "        block_temp.append(translations_tr_list[i].find_all('td'))\n",
    "    translation_blocks.append(block_temp)\n",
    "\n",
    "    array_translations = []\n",
    "    translations = {}\n",
    "\n",
    "    for block in translation_blocks:\n",
    "        if block[0][0].find('em'): # check for nature\n",
    "            nature = block[0][0].find('em')\n",
    "            nature.extract()\n",
    "        if block[0][0].find('a'): # remove a tag from english\n",
    "            block[0][0].find('a').extract()\n",
    "        word = block[0][0].get_text()\n",
    "        figurative = ''\n",
    "        if block[0][1].find('i'):\n",
    "            figurative = block[0][1].find('i').get_text()\n",
    "        definition = figurative+''.join(block[0][1].find_all(string=True, recursive=False)).strip()\n",
    "        translations['word'] = word.strip()\n",
    "        translations['nature'] = nature.get_text()\n",
    "        if definition != '':\n",
    "            translations['definition'] = definition.replace('\\xa0', '').strip()\n",
    "        for y in range(len(block)):\n",
    "            if block[y][0].has_attr('class') and 'notePubl' in block[y][0]['class']: # Note\n",
    "                translations['note-'+str(y)] = block[y][0].get_text().strip()\n",
    "            elif block[y][1].find('span', class_='dsense'): # when indication with the translation\n",
    "                traduction_context = block[y][1].find('span', class_='dsense').get_text()\n",
    "                if block[y][2].find('em'):\n",
    "                    block[y][2].find('em').extract()\n",
    "                if block[y][2].find_all('a'):\n",
    "                    for a in block[y][2].find_all('a'):\n",
    "                        a.extract()\n",
    "                traduction = block[y][2].get_text().strip()\n",
    "                translations['trad-'+str(y)] = traduction_context+traduction\n",
    "            elif block[y][1].has_attr('class') and 'FrEx' in block[y][1]['class']: # example\n",
    "                if block[y][1].find('span', class_='tooltip'): # remove tooltip message from example\n",
    "                    block[y][1].find('span', class_='tooltip').extract()\n",
    "                translations['example-eng-'+str(y)] = block[y][1].get_text().strip()\n",
    "            elif block[y][1].has_attr('class') and 'ToEx' in block[y][1]['class']: # example\n",
    "                if block[y][1].find('span', class_='tooltip'): # remove tooltip message from example\n",
    "                    block[y][1].find('span', class_='tooltip').extract()\n",
    "                translations['example-fr-'+str(y)] = block[y][1].get_text().strip()\n",
    "            else:  # translation\n",
    "                if block[y][2].find('em'):\n",
    "                    block[y][2].find('em').extract()\n",
    "                if block[y][2].find_all('a'):\n",
    "                    for a in block[y][2].find_all('a'):\n",
    "                        a.extract()\n",
    "                traduction = block[y][2].get_text().strip()\n",
    "                translations['trad-'+str(y)] = traduction\n",
    "        array_translations.append(translations)\n",
    "        translations = {}\n",
    "    return array_translations"
   ],
   "metadata": {
    "collapsed": false
   }
  }
 ],
 "metadata": {
  "kernelspec": {
   "display_name": "Python 3",
   "language": "python",
   "name": "python3"
  },
  "language_info": {
   "codemirror_mode": {
    "name": "ipython",
    "version": 2
   },
   "file_extension": ".py",
   "mimetype": "text/x-python",
   "name": "python",
   "nbconvert_exporter": "python",
   "pygments_lexer": "ipython2",
   "version": "2.7.6"
  }
 },
 "nbformat": 4,
 "nbformat_minor": 5
}
