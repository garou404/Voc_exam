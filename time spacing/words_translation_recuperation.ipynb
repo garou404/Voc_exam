{
 "cells": [
  {
   "cell_type": "code",
   "execution_count": 2,
   "outputs": [],
   "source": [
    "import pandas as pd\n",
    "import numpy as np\n",
    "from bs4 import BeautifulSoup\n",
    "import requests"
   ],
   "metadata": {
    "collapsed": false,
    "ExecuteTime": {
     "end_time": "2024-01-27T15:54:34.675909200Z",
     "start_time": "2024-01-27T15:54:29.687412200Z"
    }
   },
   "id": "c2ba8b1b314d41d2"
  },
  {
   "cell_type": "code",
   "execution_count": 3,
   "id": "initial_id",
   "metadata": {
    "collapsed": true,
    "ExecuteTime": {
     "end_time": "2024-01-27T15:54:34.682902800Z",
     "start_time": "2024-01-27T15:54:34.682902800Z"
    }
   },
   "outputs": [],
   "source": [
    "words = \"\"\"hazy\n",
    "Her ankle had been in a trice\n",
    "Deep welts\n",
    "Neat mousy hair\n",
    "twigs\n",
    "unscathed\n",
    "sulking\n",
    "Unhampered by revision\n",
    "As they settled down at his table\n",
    "He said feebly\n",
    "A tangle of shrubs\n",
    "Hushing noises\n",
    "A plea\"\"\"\n",
    "words_array = words.split('\\n')"
   ]
  },
  {
   "cell_type": "code",
   "execution_count": 4,
   "outputs": [],
   "source": [
    "r = requests.get('https://www.wordreference.com/enfr/stew')"
   ],
   "metadata": {
    "collapsed": false,
    "ExecuteTime": {
     "end_time": "2024-01-27T15:54:35.463697300Z",
     "start_time": "2024-01-27T15:54:34.682902800Z"
    }
   },
   "id": "1d7a2f876afc50a7"
  },
  {
   "cell_type": "code",
   "execution_count": 50,
   "outputs": [
    {
     "name": "stdout",
     "output_type": "stream",
     "text": [
      "['stew n', ' (slow-cooked dish)', 'ragoût nm', 'civet nm', 'pot-au-feu nm inv', 'Tom is making a stew for dinner.', 'Tom prépare un ragoût pour le dîner.']\n",
      "['stew [sth]⇒ vtr', ' (cook slowly)', 'mijoter⇒, faire mijoter⇒ vtr', 'cuire en ragoût vtr', 'Wendy stewed the beef until it was very tender.', \"Wendy a fait mijoter le bœuf jusqu'à ce qu'il soit très tendre.\"]\n",
      "['stew⇒ vi', ' (cook slowly)', 'mijoter⇒ vi', 'The meat was stewing in a pan on the stove.']\n"
     ]
    }
   ],
   "source": [
    "soup = BeautifulSoup(r.text, 'html.parser')\n",
    "#print(soup.find_all('table', class_='WRD')[0].prettify())\n",
    "translation_row = pd.DataFrame(columns=['word', 'meaning', 'tr1', 'tr2', 'tr3', 'example'])\n",
    "test_row = []\n",
    "mode = 'even'\n",
    "list_of_list = []\n",
    "for row in soup.find_all('table', class_='WRD')[0].find_all('tr', class_=['even', 'odd']):\n",
    "    if (row.attrs.get('class')[0] =='odd') and (mode == 'even'): # even not in row => odd in row\n",
    "        mode = 'odd'\n",
    "        list_of_list.append(test_row)\n",
    "        test_row = []\n",
    "    elif (row.attrs.get('class')[0] =='even') and (mode == 'odd'): # even in row \n",
    "        mode = 'even'\n",
    "        list_of_list.append(test_row)\n",
    "        test_row = []\n",
    "    for cell in row.find_all('td'):\n",
    "        if len(cell.text) != 1:\n",
    "            test_row.append(cell.text)\n",
    "list_of_list.append(test_row)\n",
    "    \n",
    "        \n",
    "\n",
    "    \n",
    "for item in list_of_list:\n",
    "    print(item)\n",
    "#new_index = df.index.max() + 1 \n",
    "# Add a new row with marks for another student at the end\n",
    "#df.loc[new_index] = [75, 80, 70]"
   ],
   "metadata": {
    "collapsed": false,
    "ExecuteTime": {
     "end_time": "2024-01-27T16:47:02.530182600Z",
     "start_time": "2024-01-27T16:47:02.312860900Z"
    }
   },
   "id": "a707ec46cbe730a8"
  },
  {
   "cell_type": "code",
   "execution_count": 44,
   "outputs": [
    {
     "name": "stdout",
     "output_type": "stream",
     "text": [
      "{'odd'}\n",
      "even  in  blabla even bla bla\n",
      "new mode even\n",
      "\n",
      "even  in  blabla even blo blo\n",
      "new mode even\n",
      "\n",
      "even  in  ou ou odd ou ou\n",
      "new mode odd\n",
      "\n",
      "odd  in  oui oui odd ou oui\n",
      "new mode odd\n",
      "\n",
      "odd  in  tes test even\n",
      "new mode even\n"
     ]
    }
   ],
   "source": [
    "modes = {'even', 'odd'}\n",
    "mode = 'even'\n",
    "str_list = ['blabla even bla bla', 'blabla even blo blo', 'ou ou odd ou ou', 'oui oui odd ou oui', 'tes test even'] \n",
    "\n",
    "\n",
    "for str_item in str_list:\n",
    "    print(mode+'  in  '+str_item)\n",
    "    if mode not in str_item:\n",
    "        for one_item in (modes - {mode}):\n",
    "            mode = one_item\n",
    "    print('new mode '+mode)\n",
    "    print()\n",
    "        "
   ],
   "metadata": {
    "collapsed": false,
    "ExecuteTime": {
     "end_time": "2024-01-26T21:42:14.982163500Z",
     "start_time": "2024-01-26T21:42:14.982163500Z"
    }
   },
   "id": "c49554851f318813"
  },
  {
   "cell_type": "code",
   "execution_count": 40,
   "outputs": [
    {
     "name": "stdout",
     "output_type": "stream",
     "text": [
      "<class 'bs4.element.Tag'>\n",
      "<tr class=\"even\" id=\"enfr:26592\"><td class=\"FrWrd\"><strong>stew</strong> <em class=\"POS2\" data-lang=\"en\">n</em></td><td> (slow-cooked dish)</td><td class=\"ToWrd\">ragoût <em class=\"POS2\" data-lang=\"fr\">nm</em></td></tr>\n",
      "None\n",
      "test good\n"
     ]
    }
   ],
   "source": [
    "test = soup.find_all('table', class_='WRD')[0].find_all('tr', class_=['even', 'odd'])[0]\n",
    "print(type(test))\n",
    "print(test)\n",
    "print(test.find(class_='even'))\n",
    "if test.attrs.get('class')[0] =='even':\n",
    "    print('test good')\n",
    "else:\n",
    "    print('test bad')"
   ],
   "metadata": {
    "collapsed": false,
    "ExecuteTime": {
     "end_time": "2024-01-27T16:36:17.571290800Z",
     "start_time": "2024-01-27T16:36:17.544760600Z"
    }
   },
   "id": "177ae4bff7f6200d"
  }
 ],
 "metadata": {
  "kernelspec": {
   "display_name": "Python 3",
   "language": "python",
   "name": "python3"
  },
  "language_info": {
   "codemirror_mode": {
    "name": "ipython",
    "version": 2
   },
   "file_extension": ".py",
   "mimetype": "text/x-python",
   "name": "python",
   "nbconvert_exporter": "python",
   "pygments_lexer": "ipython2",
   "version": "2.7.6"
  }
 },
 "nbformat": 4,
 "nbformat_minor": 5
}
