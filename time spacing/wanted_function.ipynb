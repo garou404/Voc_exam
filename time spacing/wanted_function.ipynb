{
 "cells": [
  {
   "cell_type": "code",
   "execution_count": 1,
   "id": "initial_id",
   "metadata": {
    "collapsed": true,
    "ExecuteTime": {
     "end_time": "2024-02-18T16:42:20.953951900Z",
     "start_time": "2024-02-18T16:42:10.198491500Z"
    }
   },
   "outputs": [],
   "source": [
    "import matplotlib.pyplot as plt\n",
    "import numpy as np\n",
    "import pandas as pd\n",
    "list_values = [1, 1, 2, 4, 15, 26, 28, 29, 29]\n",
    "import random"
   ]
  },
  {
   "cell_type": "code",
   "execution_count": 2,
   "outputs": [],
   "source": [
    "# Data for plotting\n",
    "t = np.arange(-10, 10+20/8, (20/8))\n",
    "s = (30/np.pi)*(np.arctan(t) - np.arctan(-10)) + 1\n",
    "[round(x) for x in s]\n",
    "\n",
    "def find_nearest(row):\n",
    "    list_min = []\n",
    "    for value in list_values:\n",
    "        list_min.append(np.abs(value - row['interval']))\n",
    "    return list_min.index(min(list_min))\n",
    "\n",
    "def update_coeff_data(path):\n",
    "    df = pd.read_excel(path, index_col=None, header=None)    \n",
    "    df.columns = ['question', 'answer', 'interval', 'date', 'steps_index']\n",
    "    df['steps_index'] = df.apply(find_nearest, axis=1)\n",
    "    df.drop(columns=['interval'], inplace=True)\n",
    "    df.to_excel(path, index=False, header=False)\n",
    "    \n",
    "def add_fr_to_eng(path):\n",
    "    df = pd.read_excel(path, index_col=None, header=None)    \n",
    "    df.columns = ['question', 'answer', 'date', 'steps_index']\n",
    "    df['fr_to_eng'] = False\n",
    "    df.to_excel(path, index=False, header=False)"
   ],
   "metadata": {
    "collapsed": false,
    "ExecuteTime": {
     "end_time": "2024-02-18T16:42:58.944214Z",
     "start_time": "2024-02-18T16:42:58.889048800Z"
    }
   },
   "id": "a1dc0e5d6e0804fd"
  },
  {
   "cell_type": "markdown",
   "source": [],
   "metadata": {
    "collapsed": false
   },
   "id": "9df985e71e5ae767"
  },
  {
   "cell_type": "code",
   "execution_count": 3,
   "outputs": [],
   "source": [
    "add_fr_to_eng('words/words_V1.0.0.xlsx')"
   ],
   "metadata": {
    "collapsed": false,
    "ExecuteTime": {
     "end_time": "2024-02-18T16:43:01.044199900Z",
     "start_time": "2024-02-18T16:43:00.737058400Z"
    }
   },
   "id": "27b532dd1a3e82b0"
  },
  {
   "cell_type": "code",
   "execution_count": 16,
   "outputs": [
    {
     "name": "stdout",
     "output_type": "stream",
     "text": [
      "Unexpected exception formatting exception. Falling back to standard exception\n"
     ]
    },
    {
     "name": "stderr",
     "output_type": "stream",
     "text": [
      "Traceback (most recent call last):\n",
      "  File \"D:\\logiciel\\miniconda3\\lib\\site-packages\\IPython\\core\\formatters.py\", line 223, in catch_format_error\n",
      "    r = method(self, *args, **kwargs)\n",
      "  File \"D:\\logiciel\\miniconda3\\lib\\site-packages\\IPython\\core\\formatters.py\", line 344, in __call__\n",
      "    return method()\n",
      "  File \"D:\\logiciel\\miniconda3\\lib\\site-packages\\pandas\\core\\frame.py\", line 1136, in _repr_html_\n",
      "  File \"D:\\logiciel\\miniconda3\\lib\\site-packages\\pandas\\io\\formats\\format.py\", line 1108, in to_html\n",
      "    the leading space to pad between columns.\n",
      "  File \"D:\\logiciel\\miniconda3\\lib\\site-packages\\pandas\\io\\formats\\html.py\", line 88, in to_string\n",
      "    lines = self.render()\n",
      "  File \"D:\\logiciel\\miniconda3\\lib\\site-packages\\pandas\\io\\formats\\html.py\", line 644, in render\n",
      "    super().render()\n",
      "  File \"D:\\logiciel\\miniconda3\\lib\\site-packages\\pandas\\io\\formats\\html.py\", line 94, in render\n",
      "    self._write_table()\n",
      "  File \"D:\\logiciel\\miniconda3\\lib\\site-packages\\pandas\\io\\formats\\html.py\", line 267, in _write_table\n",
      "    self._write_header(indent + self.indent_delta)\n",
      "  File \"D:\\logiciel\\miniconda3\\lib\\site-packages\\pandas\\io\\formats\\html.py\", line 403, in _write_header\n",
      "    self._write_col_header(indent + self.indent_delta)\n",
      "  File \"D:\\logiciel\\miniconda3\\lib\\site-packages\\pandas\\io\\formats\\html.py\", line 383, in _write_col_header\n",
      "    row.extend(self._get_columns_formatted_values())\n",
      "  File \"D:\\logiciel\\miniconda3\\lib\\site-packages\\pandas\\io\\formats\\html.py\", line 611, in _get_columns_formatted_values\n",
      "    return self.columns._format_flat(include_name=False)\n",
      "AttributeError: 'Index' object has no attribute '_format_flat'. Did you mean: '_format_data'?\n",
      "\n",
      "During handling of the above exception, another exception occurred:\n",
      "\n",
      "Traceback (most recent call last):\n",
      "  File \"D:\\logiciel\\miniconda3\\lib\\site-packages\\IPython\\core\\interactiveshell.py\", line 2144, in showtraceback\n",
      "    stb = self.InteractiveTB.structured_traceback(\n",
      "  File \"D:\\logiciel\\miniconda3\\lib\\site-packages\\IPython\\core\\ultratb.py\", line 1435, in structured_traceback\n",
      "    return FormattedTB.structured_traceback(\n",
      "  File \"D:\\logiciel\\miniconda3\\lib\\site-packages\\IPython\\core\\ultratb.py\", line 1326, in structured_traceback\n",
      "    return VerboseTB.structured_traceback(\n",
      "  File \"D:\\logiciel\\miniconda3\\lib\\site-packages\\IPython\\core\\ultratb.py\", line 1173, in structured_traceback\n",
      "    formatted_exception = self.format_exception_as_a_whole(etype, evalue, etb, number_of_lines_of_context,\n",
      "  File \"D:\\logiciel\\miniconda3\\lib\\site-packages\\IPython\\core\\ultratb.py\", line 1088, in format_exception_as_a_whole\n",
      "    frames.append(self.format_record(record))\n",
      "  File \"D:\\logiciel\\miniconda3\\lib\\site-packages\\IPython\\core\\ultratb.py\", line 970, in format_record\n",
      "    frame_info.lines, Colors, self.has_colors, lvals\n",
      "  File \"D:\\logiciel\\miniconda3\\lib\\site-packages\\IPython\\core\\ultratb.py\", line 792, in lines\n",
      "    return self._sd.lines\n",
      "  File \"D:\\logiciel\\miniconda3\\lib\\site-packages\\stack_data\\utils.py\", line 145, in cached_property_wrapper\n",
      "    value = obj.__dict__[self.func.__name__] = self.func(obj)\n",
      "  File \"D:\\logiciel\\miniconda3\\lib\\site-packages\\stack_data\\core.py\", line 698, in lines\n",
      "    pieces = self.included_pieces\n",
      "  File \"D:\\logiciel\\miniconda3\\lib\\site-packages\\stack_data\\utils.py\", line 145, in cached_property_wrapper\n",
      "    value = obj.__dict__[self.func.__name__] = self.func(obj)\n",
      "  File \"D:\\logiciel\\miniconda3\\lib\\site-packages\\stack_data\\core.py\", line 649, in included_pieces\n",
      "    pos = scope_pieces.index(self.executing_piece)\n",
      "  File \"D:\\logiciel\\miniconda3\\lib\\site-packages\\stack_data\\utils.py\", line 145, in cached_property_wrapper\n",
      "    value = obj.__dict__[self.func.__name__] = self.func(obj)\n",
      "  File \"D:\\logiciel\\miniconda3\\lib\\site-packages\\stack_data\\core.py\", line 628, in executing_piece\n",
      "    return only(\n",
      "  File \"D:\\logiciel\\miniconda3\\lib\\site-packages\\executing\\executing.py\", line 164, in only\n",
      "    raise NotOneValueFound('Expected one value, found 0')\n",
      "executing.executing.NotOneValueFound: Expected one value, found 0\n"
     ]
    },
    {
     "data": {
      "text/plain": "                          question  \\\n0                      It’s a mast   \n1              A resurrected wreck   \n2            With a great sloshing   \n3     Looking very smug about this   \n4                          skrewts   \n5                       The casket   \n6            Their magical prowess   \n7                Said Moody grimly   \n8                           hinges   \n9     On the cistern of the toilet   \n10  Precy swelled in a manner that   \n11                    Ron shrugged   \n12               Chivvy them along   \n\n                                               answer       date  steps_index  \\\n0   (on ship) mât/(flag)mât/(TV, radio)pylône/(Rad... 2024-01-18            3   \n1        (remains of ship)épave/naufrage/épave, ruine 2024-02-03            4   \n2                                            cinglant 2024-01-25            4   \n3                 smug(adj)suffisant,imbu de soi-même 2024-01-30            4   \n4                            Scorpion avec deux queux 2024-01-18            3   \n5   (coffin)cercueil/(small jewellery box)coffret,... 2024-01-18            0   \n6   (great skill)Talent,habileté,capacité#(great v... 2024-01-26            3   \n7                     D’un air grave, d’un air sombre 2024-02-16            7   \n8                                      Gond/charnière 2024-01-18            0   \n9                                       citerne /cuve 2024-01-18            0   \n10                   Percy s’est gonflé d’une manière 2024-01-22            3   \n11                          shrug=hausser les épaules 2024-01-18            0   \n12       chivvy=(UK)presser/pousser (hurry or harass) 2024-01-18            0   \n\n    fr_to_eng  \n0        True  \n1        True  \n2        True  \n3       False  \n4       False  \n5       False  \n6        True  \n7        True  \n8        True  \n9        True  \n10      False  \n11      False  \n12      False  "
     },
     "execution_count": 16,
     "metadata": {},
     "output_type": "execute_result"
    }
   ],
   "source": [
    "df = pd.read_excel('words/words_lv.xlsx')\n",
    "df.columns = ['question', 'answer', 'date', 'steps_index', 'fr_to_eng']\n",
    "df"
   ],
   "metadata": {
    "collapsed": false
   }
  },
  {
   "cell_type": "code",
   "execution_count": 43,
   "outputs": [
    {
     "name": "stdout",
     "output_type": "stream",
     "text": [
      "0.8875600164701138\n"
     ]
    },
    {
     "data": {
      "text/plain": "1"
     },
     "execution_count": 43,
     "metadata": {},
     "output_type": "execute_result"
    }
   ],
   "source": [
    "random_number = random.random()\n",
    "print(random_number)\n",
    "round(random_number)\n"
   ],
   "metadata": {
    "collapsed": false
   }
  }
 ],
 "metadata": {
  "kernelspec": {
   "display_name": "Python 3",
   "language": "python",
   "name": "python3"
  },
  "language_info": {
   "codemirror_mode": {
    "name": "ipython",
    "version": 2
   },
   "file_extension": ".py",
   "mimetype": "text/x-python",
   "name": "python",
   "nbconvert_exporter": "python",
   "pygments_lexer": "ipython2",
   "version": "2.7.6"
  }
 },
 "nbformat": 4,
 "nbformat_minor": 5
}
