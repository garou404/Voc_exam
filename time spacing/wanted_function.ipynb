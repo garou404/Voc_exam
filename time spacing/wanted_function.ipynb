{
 "cells": [
  {
   "cell_type": "code",
   "execution_count": 3,
   "id": "initial_id",
   "metadata": {
    "collapsed": true,
    "ExecuteTime": {
     "end_time": "2024-02-16T17:47:55.870398100Z",
     "start_time": "2024-02-16T17:47:55.865399700Z"
    }
   },
   "outputs": [],
   "source": [
    "import matplotlib.pyplot as plt\n",
    "import numpy as np\n",
    "import pandas as pd\n",
    "list_values = [1, 1, 2, 4, 15, 26, 28, 29, 29]"
   ]
  },
  {
   "cell_type": "code",
   "execution_count": 21,
   "outputs": [],
   "source": [
    "# Data for plotting\n",
    "t = np.arange(-10, 10+20/8, (20/8))\n",
    "s = (30/np.pi)*(np.arctan(t) - np.arctan(-10)) + 1\n",
    "[round(x) for x in s]\n",
    "\n",
    "def find_nearest(row):\n",
    "    list_min = []\n",
    "    for value in list_values:\n",
    "        list_min.append(np.abs(value - row['interval']))\n",
    "    return list_min.index(min(list_min))\n",
    "\n",
    "def update_coeff_data(path):\n",
    "    df = pd.read_excel(path, index_col=None, header=None)    \n",
    "    df.columns = ['question', 'answer', 'interval', 'date', 'steps_index']\n",
    "    df['steps_index'] = df.apply(find_nearest, axis=1)\n",
    "    df.drop(columns=['interval'], inplace=True)\n",
    "    df.to_excel(path, index=False, header=False)"
   ],
   "metadata": {
    "collapsed": false,
    "ExecuteTime": {
     "end_time": "2024-02-16T21:32:34.969512300Z",
     "start_time": "2024-02-16T21:32:34.930807100Z"
    }
   },
   "id": "a1dc0e5d6e0804fd"
  },
  {
   "cell_type": "markdown",
   "source": [],
   "metadata": {
    "collapsed": false
   },
   "id": "9df985e71e5ae767"
  },
  {
   "cell_type": "code",
   "execution_count": 22,
   "outputs": [],
   "source": [
    "update_coeff_data('words_V1.0.0.xlsx')"
   ],
   "metadata": {
    "collapsed": false,
    "ExecuteTime": {
     "end_time": "2024-02-16T21:32:38.146425100Z",
     "start_time": "2024-02-16T21:32:37.968465300Z"
    }
   },
   "id": "27b532dd1a3e82b0"
  }
 ],
 "metadata": {
  "kernelspec": {
   "display_name": "Python 3",
   "language": "python",
   "name": "python3"
  },
  "language_info": {
   "codemirror_mode": {
    "name": "ipython",
    "version": 2
   },
   "file_extension": ".py",
   "mimetype": "text/x-python",
   "name": "python",
   "nbconvert_exporter": "python",
   "pygments_lexer": "ipython2",
   "version": "2.7.6"
  }
 },
 "nbformat": 4,
 "nbformat_minor": 5
}
