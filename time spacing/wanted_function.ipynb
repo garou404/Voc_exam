{
 "cells": [
  {
   "cell_type": "code",
   "execution_count": 1,
   "id": "initial_id",
   "metadata": {
    "collapsed": true,
    "ExecuteTime": {
     "end_time": "2024-02-15T20:40:03.316289900Z",
     "start_time": "2024-02-15T20:39:59.098306500Z"
    }
   },
   "outputs": [
    {
     "name": "stderr",
     "output_type": "stream",
     "text": [
      "C:\\Users\\Bernard\\AppData\\Local\\Temp\\ipykernel_14788\\24580173.py:3: DeprecationWarning: \n",
      "Pyarrow will become a required dependency of pandas in the next major release of pandas (pandas 3.0),\n",
      "(to allow more performant data types, such as the Arrow string type, and better interoperability with other libraries)\n",
      "but was not found to be installed on your system.\n",
      "If this would cause problems for you,\n",
      "please provide us feedback at https://github.com/pandas-dev/pandas/issues/54466\n",
      "        \n",
      "  import pandas as pd\n"
     ]
    }
   ],
   "source": [
    "import matplotlib.pyplot as plt\n",
    "import numpy as np\n",
    "import pandas as pd\n",
    "list_values = [1, 1, 2, 4, 15, 26, 28, 29, 29]"
   ]
  },
  {
   "cell_type": "code",
   "execution_count": 25,
   "outputs": [
    {
     "name": "stdout",
     "output_type": "stream",
     "text": [
      "0       2\n",
      "1       8\n",
      "2      16\n",
      "3      16\n",
      "4      16\n",
      "       ..\n",
      "194     1\n",
      "195     1\n",
      "196     4\n",
      "197     1\n",
      "198     1\n",
      "Name: interval, Length: 199, dtype: int64\n",
      "    interval  new_interval\n",
      "0          2             2\n",
      "1          8             3\n",
      "2         16             4\n",
      "3         16             4\n",
      "4         16             4\n",
      "5          8             3\n",
      "6          1             0\n",
      "7          8             3\n",
      "8         32             7\n",
      "9         16             4\n",
      "10        16             4\n",
      "11         8             3\n",
      "12        16             4\n",
      "13        16             4\n",
      "14        16             4\n",
      "15        16             4\n",
      "16         1             0\n",
      "17        16             4\n",
      "18         1             0\n",
      "19         8             3\n"
     ]
    }
   ],
   "source": [
    "# Data for plotting\n",
    "t = np.arange(-10, 10+20/8, (20/8))\n",
    "s = (30/np.pi)*(np.arctan(t) - np.arctan(-10)) + 1\n",
    "[round(x) for x in s]\n",
    "\n",
    "def find_closest_value(value):\n",
    "    t = np.arange(-10, 10+20/8, (20/8))\n",
    "    s = (30/np.pi)*(np.arctan(t) - np.arctan(-10)) + 1\n",
    "    list_value = [round(x) for x in s]\n",
    "\n",
    "def find_nearest(row):\n",
    "    list_min = []\n",
    "    for value in list_values:\n",
    "        list_min.append(np.abs(value - row['interval']))\n",
    "    return list_min.index(min(list_min))\n",
    "\n",
    "def update_coeff_data(path):\n",
    "    df = pd.read_excel(path, index_col=None, header=None)    \n",
    "    df.columns = ['question', 'answer', 'interval', 'date']\n",
    "    df['new_interval'] = df.apply(find_nearest, axis=1)\n",
    "    #print(df.columns)\n",
    "    #print(df[['question', '']])\n",
    "    \n",
    "list_values = [1, 1, 2, 4, 15, 26, 28, 29, 29]\n",
    "\n",
    "update_coeff_data('words_lv.xlsx')"
   ],
   "metadata": {
    "collapsed": false,
    "ExecuteTime": {
     "end_time": "2024-02-15T21:14:02.693528300Z",
     "start_time": "2024-02-15T21:14:02.637949400Z"
    }
   },
   "id": "a1dc0e5d6e0804fd"
  },
  {
   "cell_type": "code",
   "execution_count": 15,
   "outputs": [],
   "source": [],
   "metadata": {
    "collapsed": false,
    "ExecuteTime": {
     "end_time": "2024-02-15T21:00:22.518329300Z",
     "start_time": "2024-02-15T21:00:22.518329300Z"
    }
   },
   "id": "8b55b5fd19ff7adf"
  }
 ],
 "metadata": {
  "kernelspec": {
   "display_name": "Python 3",
   "language": "python",
   "name": "python3"
  },
  "language_info": {
   "codemirror_mode": {
    "name": "ipython",
    "version": 2
   },
   "file_extension": ".py",
   "mimetype": "text/x-python",
   "name": "python",
   "nbconvert_exporter": "python",
   "pygments_lexer": "ipython2",
   "version": "2.7.6"
  }
 },
 "nbformat": 4,
 "nbformat_minor": 5
}
