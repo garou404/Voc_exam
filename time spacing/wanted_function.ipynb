{
 "cells": [
  {
   "cell_type": "code",
   "execution_count": 2,
   "id": "initial_id",
   "metadata": {
    "collapsed": true,
    "ExecuteTime": {
     "end_time": "2024-02-18T16:42:20.953951900Z",
     "start_time": "2024-02-18T16:42:10.198491500Z"
    }
   },
   "outputs": [
    {
     "name": "stderr",
     "output_type": "stream",
     "text": [
      "C:\\Users\\Bernard\\AppData\\Local\\Temp\\ipykernel_5952\\24580173.py:3: DeprecationWarning: \n",
      "Pyarrow will become a required dependency of pandas in the next major release of pandas (pandas 3.0),\n",
      "(to allow more performant data types, such as the Arrow string type, and better interoperability with other libraries)\n",
      "but was not found to be installed on your system.\n",
      "If this would cause problems for you,\n",
      "please provide us feedback at https://github.com/pandas-dev/pandas/issues/54466\n",
      "        \n",
      "  import pandas as pd\n"
     ]
    }
   ],
   "source": [
    "import matplotlib.pyplot as plt\n",
    "import numpy as np\n",
    "import pandas as pd\n",
    "list_values = [1, 1, 2, 4, 15, 26, 28, 29, 29]"
   ]
  },
  {
   "cell_type": "code",
   "execution_count": 6,
   "outputs": [],
   "source": [
    "# Data for plotting\n",
    "t = np.arange(-10, 10+20/8, (20/8))\n",
    "s = (30/np.pi)*(np.arctan(t) - np.arctan(-10)) + 1\n",
    "[round(x) for x in s]\n",
    "\n",
    "def find_nearest(row):\n",
    "    list_min = []\n",
    "    for value in list_values:\n",
    "        list_min.append(np.abs(value - row['interval']))\n",
    "    return list_min.index(min(list_min))\n",
    "\n",
    "def update_coeff_data(path):\n",
    "    df = pd.read_excel(path, index_col=None, header=None)    \n",
    "    df.columns = ['question', 'answer', 'interval', 'date', 'steps_index']\n",
    "    df['steps_index'] = df.apply(find_nearest, axis=1)\n",
    "    df.drop(columns=['interval'], inplace=True)\n",
    "    df.to_excel(path, index=False, header=False)\n",
    "    \n",
    "def add_fr_to_eng(path):\n",
    "    df = pd.read_excel(path, index_col=None, header=None)    \n",
    "    df.columns = ['question', 'answer', 'date', 'steps_index']\n",
    "    df['fr_to_eng'] = False\n",
    "    df.to_excel(path, index=False, header=False)"
   ],
   "metadata": {
    "collapsed": false,
    "ExecuteTime": {
     "end_time": "2024-02-18T16:42:58.944214Z",
     "start_time": "2024-02-18T16:42:58.889048800Z"
    }
   },
   "id": "a1dc0e5d6e0804fd"
  },
  {
   "cell_type": "markdown",
   "source": [],
   "metadata": {
    "collapsed": false
   },
   "id": "9df985e71e5ae767"
  },
  {
   "cell_type": "code",
   "execution_count": 7,
   "outputs": [],
   "source": [
    "add_fr_to_eng('words/words_lv.xlsx')"
   ],
   "metadata": {
    "collapsed": false,
    "ExecuteTime": {
     "end_time": "2024-02-18T16:43:01.044199900Z",
     "start_time": "2024-02-18T16:43:00.737058400Z"
    }
   },
   "id": "27b532dd1a3e82b0"
  }
 ],
 "metadata": {
  "kernelspec": {
   "display_name": "Python 3",
   "language": "python",
   "name": "python3"
  },
  "language_info": {
   "codemirror_mode": {
    "name": "ipython",
    "version": 2
   },
   "file_extension": ".py",
   "mimetype": "text/x-python",
   "name": "python",
   "nbconvert_exporter": "python",
   "pygments_lexer": "ipython2",
   "version": "2.7.6"
  }
 },
 "nbformat": 4,
 "nbformat_minor": 5
}
